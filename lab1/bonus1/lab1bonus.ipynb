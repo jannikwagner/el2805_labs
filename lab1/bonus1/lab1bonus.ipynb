{
 "cells": [
  {
   "cell_type": "code",
   "execution_count": 1,
   "metadata": {},
   "outputs": [],
   "source": [
    "import maze as mz\n",
    "import numpy as np\n",
    "import matplotlib.pyplot as plt"
   ]
  },
  {
   "cell_type": "code",
   "execution_count": 2,
   "metadata": {},
   "outputs": [],
   "source": [
    "maze = np.array([\n",
    "    [0, 0, 1, 0, 0, 0, 0, 3],\n",
    "    [0, 0, 1, 0, 0, 1, 0, 0],\n",
    "    [0, 0, 1, 0, 0, 1, 1, 1],\n",
    "    [0, 0, 1, 0, 0, 1, 0, 0],\n",
    "    [0, 0, 0, 0, 0, 0, 0, 0],\n",
    "    [0, 1, 1, 1, 1, 1, 1, 0],\n",
    "    [0, 0, 0, 0, 1, 2, 0, 0]\n",
    "])"
   ]
  },
  {
   "cell_type": "code",
   "execution_count": 3,
   "metadata": {},
   "outputs": [],
   "source": [
    "env = mz.Maze(maze)\n",
    "# Discount Factor\n",
    "gamma = 0.95\n",
    "# Accuracy treshold\n",
    "epsilon = 0.0001\n",
    "V, policy = mz.value_iteration(env, gamma, epsilon)"
   ]
  },
  {
   "cell_type": "code",
   "execution_count": 4,
   "metadata": {},
   "outputs": [
    {
     "name": "stdout",
     "output_type": "stream",
     "text": [
      "[State(player=(0, 0), minotaur=(6, 5), key=0), State(player=(1, 0), minotaur=(6, 6), key=0), State(player=(1, 1), minotaur=(6, 5), key=0), State(player=(2, 1), minotaur=(6, 4), key=0), State(player=(3, 1), minotaur=(5, 4), key=0), State(player=(4, 1), minotaur=(5, 5), key=0), State(player=(4, 2), minotaur=(4, 5), key=0), State(player=(4, 3), minotaur=(4, 6), key=0), State(player=(4, 4), minotaur=(5, 6), key=0), State(player=(3, 4), minotaur=(5, 5), key=0), State(player=(2, 4), minotaur=(5, 4), key=0), State(player=(1, 4), minotaur=(6, 4), key=0), State(player=(0, 4), minotaur=(6, 5), key=0), State(player=(0, 5), minotaur=(5, 5), key=0), State(player=(0, 6), minotaur=(4, 5), key=0), State(player=(0, 7), minotaur=(4, 6), key=1), State(player=(0, 6), minotaur=(3, 6), key=1), State(player=(0, 5), minotaur=(2, 6), key=1), State(player=(0, 4), minotaur=(2, 5), key=1), State(player=(1, 4), minotaur=(1, 5), key=1), State(player=(2, 4), minotaur=(1, 4), key=1), State(player=(3, 4), minotaur=(2, 4), key=1), State(player=(4, 4), minotaur=(3, 4), key=1), State(player=(4, 5), minotaur=(3, 3), key=1), State(player=(4, 6), minotaur=(2, 3), key=1), State(player=(4, 7), minotaur=(2, 2), key=1), State(player=(5, 7), minotaur=(3, 2), key=1), State(player=(6, 7), minotaur=(2, 2), key=1), State(player=(6, 6), minotaur=(3, 2), key=1), State(player=(6, 5), minotaur=(3, 3), key=1), State(player=(6, 5), minotaur=(3, 3), key=1)]\n"
     ]
    }
   ],
   "source": [
    "method = \"ValIter\"\n",
    "path = env.simulate((0, 0), policy, method)\n",
    "print(path)"
   ]
  },
  {
   "cell_type": "code",
   "execution_count": null,
   "metadata": {},
   "outputs": [],
   "source": []
  }
 ],
 "metadata": {
  "kernelspec": {
   "display_name": "Python 3.10.6 ('el2805_4')",
   "language": "python",
   "name": "python3"
  },
  "language_info": {
   "codemirror_mode": {
    "name": "ipython",
    "version": 3
   },
   "file_extension": ".py",
   "mimetype": "text/x-python",
   "name": "python",
   "nbconvert_exporter": "python",
   "pygments_lexer": "ipython3",
   "version": "3.10.6"
  },
  "orig_nbformat": 4,
  "vscode": {
   "interpreter": {
    "hash": "f17498c08ec4b69f201123d031cb5c8af330f66a9acbc9a993c3dd933a48c82b"
   }
  }
 },
 "nbformat": 4,
 "nbformat_minor": 2
}
