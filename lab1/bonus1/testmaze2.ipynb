{
 "cells": [
  {
   "cell_type": "code",
   "execution_count": 4,
   "metadata": {},
   "outputs": [],
   "source": [
    "import maze2 as mz\n",
    "import numpy as np\n",
    "import matplotlib.pyplot as plt\n",
    "import qlearning as ql\n",
    "from sarsa import sarsa\n",
    "from MC import mc\n",
    "import tqdm\n",
    "from utility import monte_carlo_success"
   ]
  },
  {
   "cell_type": "code",
   "execution_count": 5,
   "metadata": {},
   "outputs": [],
   "source": [
    "# Create a maze\n",
    "maze = np.array([\n",
    "    [0, 0, 1, 0, 0, 0, 0, 3],\n",
    "    [0, 0, 1, 0, 0, 1, 0, 0],\n",
    "    [0, 0, 1, 0, 0, 1, 1, 1],\n",
    "    [0, 0, 1, 0, 0, 1, 0, 0],\n",
    "    [0, 0, 0, 0, 0, 0, 0, 0],\n",
    "    [0, 1, 1, 1, 1, 1, 1, 0],\n",
    "    [0, 0, 0, 0, 1, 2, 0, 0]\n",
    "])\n",
    "env = mz.Maze(maze)\n",
    "\n",
    "maze_no_onstacles = np.array([\n",
    "    [0, 0, 1, 0, 0, 0, 0, 3],\n",
    "    [0, 0, 1, 0, 0, 1, 0, 0],\n",
    "    [0, 0, 1, 0, 0, 1, 1, 1],\n",
    "    [0, 0, 1, 0, 0, 1, 0, 0],\n",
    "    [0, 0, 0, 0, 0, 0, 0, 0],\n",
    "    [0, 1, 1, 1, 1, 1, 1, 0],\n",
    "    [0, 0, 0, 0, 1, 2, 0, 0]\n",
    "])\n",
    "maze_no_onstacles[maze_no_onstacles==1] = 0\n",
    "env_no_obstacles = mz.Maze(maze_no_onstacles)\n",
    "\n",
    "env_p0 = mz.Maze(maze, poison_prob=0)\n",
    "\n",
    "env_p0_wallminus1 = mz.Maze(maze, poison_prob=0)\n",
    "env_p0_wallminus1.set_rewards(0, 1, -1, 0)\n",
    "\n",
    "very_easy_maze = np.array([\n",
    "    [0, 0, 3],\n",
    "    [0, 0, 0],\n",
    "    [0, 0, 2]\n",
    "])\n",
    "very_easy_env = mz.Maze(very_easy_maze, poison_prob=0)\n",
    "\n",
    "f = \"results/maze2_value_iteration.npy\""
   ]
  },
  {
   "cell_type": "code",
   "execution_count": 7,
   "metadata": {},
   "outputs": [],
   "source": [
    "# Discount Factor\n",
    "gamma = 0.95\n",
    "# Accuracy treshold\n",
    "epsilon = 0.01\n",
    "V, policy = mz.value_iteration(env, gamma, epsilon)\n",
    "np.save(f, (V))"
   ]
  },
  {
   "cell_type": "code",
   "execution_count": 6,
   "metadata": {},
   "outputs": [],
   "source": [
    "V=np.load(f)"
   ]
  },
  {
   "cell_type": "code",
   "execution_count": 7,
   "metadata": {},
   "outputs": [
    {
     "data": {
      "text/plain": [
       "4.518009766526329"
      ]
     },
     "execution_count": 7,
     "metadata": {},
     "output_type": "execute_result"
    }
   ],
   "source": [
    "V[env.start_state()]"
   ]
  },
  {
   "cell_type": "code",
   "execution_count": 7,
   "metadata": {},
   "outputs": [
    {
     "name": "stderr",
     "output_type": "stream",
     "text": [
      "100%|██████████| 10000/10000 [00:46<00:00, 213.74it/s]"
     ]
    },
    {
     "name": "stdout",
     "output_type": "stream",
     "text": [
      "0.5609\n"
     ]
    },
    {
     "name": "stderr",
     "output_type": "stream",
     "text": [
      "\n"
     ]
    }
   ],
   "source": [
    "monte_carlo_success(policy, env)"
   ]
  },
  {
   "cell_type": "code",
   "execution_count": 8,
   "metadata": {},
   "outputs": [
    {
     "name": "stdout",
     "output_type": "stream",
     "text": [
      "[State(player=(0, 0), minotaur=(6, 5), key=0), State(player=(0, 1), minotaur=(6, 4), key=0), State(player=(1, 1), minotaur=(5, 4), key=0), State(player=(2, 1), minotaur=(4, 4), key=0), State(player=(3, 1), minotaur=(5, 4), key=0), State(player=(4, 1), minotaur=(4, 4), key=0), State(player=(4, 2), minotaur=(4, 3), key=0), State(player=(4, 3), minotaur=(4, 2), key=0), State(player=(4, 4), minotaur=(5, 2), key=0), State(player=(3, 4), minotaur=(5, 3), key=0), State(player=(2, 4), minotaur=(5, 4), key=0), State(player=(1, 4), minotaur=(4, 4), key=0), State(player=(0, 4), minotaur=(3, 4), key=0), State(player=(0, 0), minotaur=(0, 0), key=0), State(player=(0, 0), minotaur=(0, 0), key=0)] 15\n"
     ]
    }
   ],
   "source": [
    "method = \"ValIter\"\n",
    "path = env.simulate((0, 0), policy, method)\n",
    "print(path, len(path))"
   ]
  },
  {
   "cell_type": "code",
   "execution_count": 9,
   "metadata": {},
   "outputs": [],
   "source": [
    "f2 = \"results/m2p_q50k.npy\""
   ]
  },
  {
   "cell_type": "code",
   "execution_count": 16,
   "metadata": {},
   "outputs": [
    {
     "name": "stderr",
     "output_type": "stream",
     "text": [
      "100%|██████████| 5000/5000 [01:11<00:00, 69.52it/s]\n"
     ]
    }
   ],
   "source": [
    "gamma = 0.95\n",
    "alpha = 0.1\n",
    "epsilon = 1/3\n",
    "n_episodes = 5000\n",
    "Q, policy, q_start = ql.qlearning(env, gamma, alpha, epsilon, n_episodes)\n",
    "np.save(f2, (Q))"
   ]
  },
  {
   "cell_type": "code",
   "execution_count": 26,
   "metadata": {},
   "outputs": [],
   "source": [
    "Q = np.load(f2)\n",
    "policy = Q.argmax(axis=1)"
   ]
  },
  {
   "cell_type": "code",
   "execution_count": 17,
   "metadata": {},
   "outputs": [
    {
     "data": {
      "text/plain": [
       "[<matplotlib.lines.Line2D at 0x11a107d90>]"
      ]
     },
     "execution_count": 17,
     "metadata": {},
     "output_type": "execute_result"
    },
    {
     "data": {
      "image/png": "[encoded data removed]",
      "text/plain": [
       "<Figure size 640x480 with 1 Axes>"
      ]
     },
     "metadata": {},
     "output_type": "display_data"
    }
   ],
   "source": [
    "plt.plot(q_start)"
   ]
  },
  {
   "cell_type": "code",
   "execution_count": 26,
   "metadata": {},
   "outputs": [
    {
     "data": {
      "text/plain": [
       "-99.99998853633055"
      ]
     },
     "execution_count": 26,
     "metadata": {},
     "output_type": "execute_result"
    }
   ],
   "source": [
    "Q.min()"
   ]
  },
  {
   "cell_type": "code",
   "execution_count": 13,
   "metadata": {},
   "outputs": [
    {
     "name": "stdout",
     "output_type": "stream",
     "text": [
      "[State(player=(0, 0), minotaur=(6, 5), key=0), State(player=(1, 0), minotaur=(6, 4), key=0), State(player=(2, 0), minotaur=(5, 4), key=0), State(player=(3, 0), minotaur=(6, 4), key=0), State(player=(3, 1), minotaur=(6, 3), key=0), State(player=(4, 1), minotaur=(6, 4), key=0), State(player=(4, 2), minotaur=(5, 4), key=0), State(player=(4, 3), minotaur=(4, 4), key=0), State(player=(3, 3), minotaur=(4, 5), key=0), State(player=(2, 3), minotaur=(4, 4), key=0), State(player=(1, 3), minotaur=(4, 5), key=0), State(player=(1, 4), minotaur=(4, 6), key=0), State(player=(0, 4), minotaur=(4, 7), key=0), State(player=(0, 5), minotaur=(4, 6), key=0), State(player=(0, 6), minotaur=(3, 6), key=0), State(player=(0, 7), minotaur=(2, 6), key=1), State(player=(0, 6), minotaur=(1, 6), key=1), State(player=(0, 5), minotaur=(2, 6), key=1), State(player=(0, 4), minotaur=(2, 5), key=1), State(player=(1, 4), minotaur=(2, 4), key=1), State(player=(2, 4), minotaur=(1, 4), key=1), State(player=(3, 4), minotaur=(1, 5), key=1), State(player=(4, 4), minotaur=(0, 5), key=1), State(player=(4, 3), minotaur=(1, 5), key=1), State(player=(4, 3), minotaur=(0, 5), key=1), State(player=(4, 4), minotaur=(1, 5), key=1), State(player=(4, 3), minotaur=(1, 4), key=1), State(player=(4, 4), minotaur=(1, 3), key=1), State(player=(4, 4), minotaur=(1, 4), key=1), State(player=(3, 4), minotaur=(2, 4), key=1), State(player=(4, 4), minotaur=(2, 5), key=1), State(player=(4, 4), minotaur=(1, 5), key=1), State(player=(4, 3), minotaur=(1, 6), key=1), State(player=(3, 3), minotaur=(1, 7), key=1), State(player=(2, 3), minotaur=(2, 7), key=1), State(player=(0, 0), minotaur=(0, 0), key=0), State(player=(0, 0), minotaur=(0, 0), key=0)] 37\n"
     ]
    }
   ],
   "source": [
    "method = \"ValIter\"\n",
    "path = env.simulate((0, 0), policy, method)\n",
    "print(path, len(path))\n",
    "# mz.animate_solution(maze, path)"
   ]
  },
  {
   "cell_type": "code",
   "execution_count": 4,
   "metadata": {},
   "outputs": [
    {
     "ename": "NameError",
     "evalue": "name 'policy' is not defined",
     "output_type": "error",
     "traceback": [
      "\u001b[0;31m---------------------------------------------------------------------------\u001b[0m",
      "\u001b[0;31mNameError\u001b[0m                                 Traceback (most recent call last)",
      "Cell \u001b[0;32mIn [4], line 2\u001b[0m\n\u001b[1;32m      1\u001b[0m env1 \u001b[39m=\u001b[39m mz\u001b[39m.\u001b[39mMaze(maze, poison_prob\u001b[39m=\u001b[39m\u001b[39m0\u001b[39m)\n\u001b[0;32m----> 2\u001b[0m monte_carlo_success(policy, env1)\n",
      "\u001b[0;31mNameError\u001b[0m: name 'policy' is not defined"
     ]
    }
   ],
   "source": [
    "env1 = mz.Maze(maze, poison_prob=0)\n",
    "monte_carlo_success(policy, env1)"
   ]
  },
  {
   "cell_type": "code",
   "execution_count": 3,
   "metadata": {},
   "outputs": [],
   "source": [
    "f3 = \"results/m2p0_q50k_0_1_0_0.npy\""
   ]
  },
  {
   "cell_type": "code",
   "execution_count": 29,
   "metadata": {},
   "outputs": [
    {
     "name": "stderr",
     "output_type": "stream",
     "text": [
      "100%|██████████| 50000/50000 [08:50<00:00, 94.27it/s] \n"
     ]
    }
   ],
   "source": [
    "gamma = 0.95\n",
    "alpha = 0.1\n",
    "epsilon = 1/3\n",
    "n_episodes = 50000\n",
    "Q, policy, q_start = ql.qlearning(env_p0, gamma, alpha, epsilon, n_episodes)\n",
    "np.save(f3, (Q))"
   ]
  },
  {
   "cell_type": "code",
   "execution_count": 36,
   "metadata": {},
   "outputs": [
    {
     "data": {
      "text/plain": [
       "0.02"
      ]
     },
     "execution_count": 36,
     "metadata": {},
     "output_type": "execute_result"
    }
   ],
   "source": [
    "Q = np.load(f3)\n",
    "policy = Q.argmax(axis=1)"
   ]
  },
  {
   "cell_type": "code",
   "execution_count": 35,
   "metadata": {},
   "outputs": [
    {
     "name": "stderr",
     "output_type": "stream",
     "text": [
      "100%|██████████| 1000/1000 [00:04<00:00, 243.16it/s]"
     ]
    },
    {
     "name": "stdout",
     "output_type": "stream",
     "text": [
      "0.57\n"
     ]
    },
    {
     "name": "stderr",
     "output_type": "stream",
     "text": [
      "\n"
     ]
    }
   ],
   "source": [
    "monte_carlo_success(policy, env)"
   ]
  },
  {
   "cell_type": "code",
   "execution_count": 25,
   "metadata": {},
   "outputs": [
    {
     "data": {
      "text/plain": [
       "-0.050000000000000044"
      ]
     },
     "execution_count": 25,
     "metadata": {},
     "output_type": "execute_result"
    }
   ],
   "source": [
    "Q.min()"
   ]
  },
  {
   "cell_type": "code",
   "execution_count": 5,
   "metadata": {},
   "outputs": [
    {
     "name": "stderr",
     "output_type": "stream",
     "text": [
      "100%|██████████| 50000/50000 [07:37<00:00, 109.28it/s]\n"
     ]
    }
   ],
   "source": [
    "gamma = 0.95\n",
    "alpha = 0.1\n",
    "epsilon = 1/3\n",
    "n_episodes = 50000\n",
    "Q, policy, q_start = sarsa(env_p0, gamma, alpha, epsilon, n_episodes)\n",
    "f4 = \"results/m2p0_sarsa50k_0_1_0_0.npy\"\n",
    "np.save(f4, (Q))"
   ]
  },
  {
   "cell_type": "code",
   "execution_count": 6,
   "metadata": {},
   "outputs": [
    {
     "name": "stderr",
     "output_type": "stream",
     "text": [
      "100%|██████████| 1000/1000 [00:05<00:00, 192.89it/s]"
     ]
    },
    {
     "name": "stdout",
     "output_type": "stream",
     "text": [
      "0.567\n"
     ]
    },
    {
     "name": "stderr",
     "output_type": "stream",
     "text": [
      "\n"
     ]
    }
   ],
   "source": [
    "monte_carlo_success(policy, env)"
   ]
  },
  {
   "cell_type": "code",
   "execution_count": 6,
   "metadata": {},
   "outputs": [
    {
     "name": "stderr",
     "output_type": "stream",
     "text": [
      "100%|██████████| 5000/5000 [00:36<00:00, 136.70it/s]\n"
     ]
    }
   ],
   "source": [
    "gamma = 0.95\n",
    "alpha = 0.1\n",
    "epsilon = 1/3\n",
    "n_episodes = 5000\n",
    "env_p0.set_rewards(0,1,-1,0)\n",
    "Q, policy, q_start = mc(env_p0_wallminus1, gamma, alpha, epsilon, n_episodes)\n",
    "f4 = \"results/m2p0_mc50k_0_1_0_0.npy\"\n",
    "np.save(f4, (Q))"
   ]
  },
  {
   "cell_type": "code",
   "execution_count": 7,
   "metadata": {},
   "outputs": [
    {
     "name": "stderr",
     "output_type": "stream",
     "text": [
      "100%|██████████| 1000/1000 [00:06<00:00, 151.33it/s]"
     ]
    },
    {
     "name": "stdout",
     "output_type": "stream",
     "text": [
      "0.0\n"
     ]
    },
    {
     "name": "stderr",
     "output_type": "stream",
     "text": [
      "\n"
     ]
    }
   ],
   "source": [
    "monte_carlo_success(policy, env_p0_wallminus1)"
   ]
  },
  {
   "cell_type": "code",
   "execution_count": 10,
   "metadata": {},
   "outputs": [
    {
     "data": {
      "text/plain": [
       "[<matplotlib.lines.Line2D at 0x115dae050>]"
      ]
     },
     "execution_count": 10,
     "metadata": {},
     "output_type": "execute_result"
    },
    {
     "data": {
      "image/png": "[encoded data removed]",
      "text/plain": [
       "<Figure size 640x480 with 1 Axes>"
      ]
     },
     "metadata": {},
     "output_type": "display_data"
    }
   ],
   "source": [
    "plt.plot(q_start)"
   ]
  },
  {
   "cell_type": "code",
   "execution_count": null,
   "metadata": {},
   "outputs": [],
   "source": []
  }
 ],
 "metadata": {
  "kernelspec": {
   "display_name": "Python 3.10.6 ('el2805_4')",
   "language": "python",
   "name": "python3"
  },
  "language_info": {
   "codemirror_mode": {
    "name": "ipython",
    "version": 3
   },
   "file_extension": ".py",
   "mimetype": "text/x-python",
   "name": "python",
   "nbconvert_exporter": "python",
   "pygments_lexer": "ipython3",
   "version": "3.10.6"
  },
  "orig_nbformat": 4,
  "vscode": {
   "interpreter": {
    "hash": "f17498c08ec4b69f201123d031cb5c8af330f66a9acbc9a993c3dd933a48c82b"
   }
  }
 },
 "nbformat": 4,
 "nbformat_minor": 2
}
