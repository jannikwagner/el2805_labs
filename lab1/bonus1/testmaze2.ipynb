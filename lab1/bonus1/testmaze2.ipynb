{
 "cells": [
  {
   "cell_type": "code",
   "execution_count": 1,
   "metadata": {},
   "outputs": [],
   "source": [
    "import maze2 as mz\n",
    "import numpy as np\n",
    "import matplotlib.pyplot as plt\n",
    "import qlearning as ql\n"
   ]
  },
  {
   "cell_type": "code",
   "execution_count": 2,
   "metadata": {},
   "outputs": [],
   "source": [
    "# Create a maze\n",
    "maze = np.array([\n",
    "    [0, 0, 1, 0, 0, 0, 0, 3],\n",
    "    [0, 0, 1, 0, 0, 1, 0, 0],\n",
    "    [0, 0, 1, 0, 0, 1, 1, 1],\n",
    "    [0, 0, 1, 0, 0, 1, 0, 0],\n",
    "    [0, 0, 0, 0, 0, 0, 0, 0],\n",
    "    [0, 1, 1, 1, 1, 1, 1, 0],\n",
    "    [0, 0, 0, 0, 1, 2, 0, 0]\n",
    "])\n",
    "# maze = np.array([\n",
    "#     [0,  0, 0, 3],\n",
    "#     [0,  0, 0, 0],\n",
    "#     [0,  2, 0, 0]\n",
    "# ])\n",
    "\n",
    "env = mz.Maze(maze)"
   ]
  },
  {
   "cell_type": "code",
   "execution_count": 8,
   "metadata": {},
   "outputs": [
    {
     "name": "stdout",
     "output_type": "stream",
     "text": [
      "value iteration\n"
     ]
    }
   ],
   "source": [
    "\n",
    "# Discount Factor\n",
    "gamma = 0.95\n",
    "# Accuracy treshold\n",
    "epsilon = 0.01\n",
    "V, policy = mz.value_iteration(env, gamma, epsilon)\n"
   ]
  },
  {
   "cell_type": "code",
   "execution_count": 22,
   "metadata": {},
   "outputs": [
    {
     "name": "stdout",
     "output_type": "stream",
     "text": [
      "[State(player=(0, 0), minotaur=(6, 5), key=0), State(player=(0, 1), minotaur=(6, 4), key=0), State(player=(1, 1), minotaur=(6, 3), key=0), State(player=(2, 1), minotaur=(6, 2), key=0), State(player=(3, 1), minotaur=(5, 2), key=0), State(player=(4, 1), minotaur=(6, 2), key=0), State(player=(4, 2), minotaur=(6, 1), key=0), State(player=(4, 3), minotaur=(5, 1), key=0), State(player=(4, 4), minotaur=(5, 2), key=0), State(player=(3, 4), minotaur=(5, 3), key=0), State(player=(2, 4), minotaur=(5, 4), key=0), State(player=(1, 4), minotaur=(4, 4), key=0), State(player=(0, 4), minotaur=(3, 4), key=0), State(player=(0, 5), minotaur=(3, 3), key=0), State(player=(0, 6), minotaur=(3, 2), key=0), State(player=(0, 7), minotaur=(3, 3), key=1), State(player=(0, 6), minotaur=(3, 4), key=1), State(player=(0, 5), minotaur=(3, 3), key=1), State(player=(0, 4), minotaur=(3, 4), key=1), State(player=(1, 4), minotaur=(2, 4), key=1), State(player=(2, 4), minotaur=(3, 4), key=1), State(player=(3, 4), minotaur=(2, 4), key=1), State(player=(4, 4), minotaur=(3, 4), key=1), State(player=(4, 5), minotaur=(4, 4), key=1), State(player=(4, 6), minotaur=(5, 4), key=1), State(player=(4, 7), minotaur=(4, 4), key=1), State(player=(5, 7), minotaur=(4, 3), key=1), State(player=(6, 7), minotaur=(5, 3), key=1), State(player=(6, 6), minotaur=(5, 2), key=1), State(player=(6, 5), minotaur=(0, 0), key=1), State(player=(6, 5), minotaur=(0, 0), key=1)] 31\n"
     ]
    }
   ],
   "source": [
    "method = \"ValIter\"\n",
    "path = env.simulate((0, 0), policy, method)\n",
    "print(path, len(path))\n"
   ]
  },
  {
   "cell_type": "code",
   "execution_count": 23,
   "metadata": {},
   "outputs": [
    {
     "name": "stderr",
     "output_type": "stream",
     "text": [
      "100%|██████████| 50000/50000 [08:09<00:00, 102.20it/s]\n"
     ]
    }
   ],
   "source": [
    "gamma = 0.95\n",
    "alpha = 0.1\n",
    "epsilon = 1/3\n",
    "n_episodes = 50000\n",
    "Q, policy = ql.qlearning(env, gamma, alpha, epsilon, n_episodes)\n",
    "np.save(\"test.npz\", Q)"
   ]
  },
  {
   "cell_type": "code",
   "execution_count": 32,
   "metadata": {},
   "outputs": [
    {
     "name": "stdout",
     "output_type": "stream",
     "text": [
      "[State(player=(0, 0), minotaur=(6, 5), key=0), State(player=(1, 0), minotaur=(6, 6), key=0), State(player=(1, 1), minotaur=(6, 5), key=0), State(player=(2, 1), minotaur=(6, 6), key=0), State(player=(1, 1), minotaur=(6, 5), key=0), State(player=(2, 1), minotaur=(6, 4), key=0), State(player=(2, 1), minotaur=(5, 4), key=0), State(player=(2, 1), minotaur=(5, 3), key=0), State(player=(3, 1), minotaur=(5, 2), key=0), State(player=(3, 1), minotaur=(5, 1), key=0), State(player=(3, 1), minotaur=(4, 1), key=0), State(player=(4, 1), minotaur=(4, 2), key=0), State(player=(4, 2), minotaur=(5, 2), key=0), State(player=(4, 3), minotaur=(4, 2), key=0), State(player=(3, 3), minotaur=(4, 1), key=0), State(player=(3, 4), minotaur=(3, 1), key=0), State(player=(2, 4), minotaur=(3, 2), key=0), State(player=(2, 3), minotaur=(2, 2), key=0), State(player=(1, 3), minotaur=(1, 2), key=0), State(player=(1, 4), minotaur=(1, 3), key=0), State(player=(1, 4), minotaur=(1, 2), key=0), State(player=(1, 4), minotaur=(1, 1), key=0), State(player=(0, 4), minotaur=(1, 0), key=0), State(player=(0, 3), minotaur=(0, 0), key=0), State(player=(0, 3), minotaur=(0, 1), key=0), State(player=(0, 4), minotaur=(0, 2), key=0), State(player=(0, 4), minotaur=(1, 2), key=0), State(player=(0, 5), minotaur=(1, 3), key=0), State(player=(0, 5), minotaur=(1, 4), key=0), State(player=(0, 6), minotaur=(2, 4), key=0), State(player=(0, 6), minotaur=(2, 3), key=0), State(player=(0, 6), minotaur=(2, 4), key=0), State(player=(0, 6), minotaur=(1, 4), key=0), State(player=(0, 7), minotaur=(0, 4), key=1), State(player=(0, 6), minotaur=(0, 3), key=1), State(player=(0, 5), minotaur=(0, 2), key=1), State(player=(0, 5), minotaur=(0, 3), key=1), State(player=(0, 5), minotaur=(0, 4), key=1), State(player=(0, 4), minotaur=(0, 5), key=1), State(player=(1, 4), minotaur=(0, 4), key=1), State(player=(2, 4), minotaur=(1, 4), key=1), State(player=(3, 4), minotaur=(1, 5), key=1), State(player=(4, 4), minotaur=(1, 4), key=1), State(player=(4, 4), minotaur=(2, 4), key=1), State(player=(4, 5), minotaur=(1, 4), key=1), State(player=(4, 6), minotaur=(1, 5), key=1), State(player=(3, 6), minotaur=(0, 5), key=1), State(player=(3, 6), minotaur=(1, 5), key=1), State(player=(4, 6), minotaur=(1, 6), key=1), State(player=(4, 7), minotaur=(1, 5), key=1), State(player=(4, 7), minotaur=(2, 5), key=1), State(player=(5, 7), minotaur=(3, 5), key=1), State(player=(4, 7), minotaur=(4, 5), key=1), State(player=(5, 7), minotaur=(4, 6), key=1), State(player=(5, 7), minotaur=(4, 7), key=1), State(player=(5, 7), minotaur=(4, 6), key=1), State(player=(5, 7), minotaur=(5, 6), key=1), State(player=(6, 7), minotaur=(4, 6), key=1), State(player=(6, 7), minotaur=(5, 6), key=1), State(player=(6, 6), minotaur=(5, 5), key=1), State(player=(6, 6), minotaur=(6, 5), key=1), State(player=(6, 5), minotaur=(0, 0), key=1), State(player=(6, 5), minotaur=(0, 0), key=1)] 63\n"
     ]
    }
   ],
   "source": [
    "method = \"ValIter\"\n",
    "path = env.simulate((0, 0), policy, method)\n",
    "print(path, len(path))\n",
    "# mz.animate_solution(maze, path)"
   ]
  },
  {
   "cell_type": "code",
   "execution_count": 34,
   "metadata": {},
   "outputs": [
    {
     "name": "stderr",
     "output_type": "stream",
     "text": [
      "100%|██████████| 10000/10000 [01:13<00:00, 136.50it/s]"
     ]
    },
    {
     "name": "stdout",
     "output_type": "stream",
     "text": [
      "0.2338\n"
     ]
    },
    {
     "name": "stderr",
     "output_type": "stream",
     "text": [
      "\n"
     ]
    }
   ],
   "source": [
    "import tqdm\n",
    "N = 10000\n",
    "n_win = 0\n",
    "for i in tqdm.tqdm(range(N)):\n",
    "    path = env.simulate((0, 0), policy, method)\n",
    "    if env.win(env.map[path[-1]]):\n",
    "        n_win += 1\n",
    "print(n_win/N)"
   ]
  },
  {
   "cell_type": "code",
   "execution_count": null,
   "metadata": {},
   "outputs": [],
   "source": []
  }
 ],
 "metadata": {
  "kernelspec": {
   "display_name": "Python 3.10.6 ('el2805_4')",
   "language": "python",
   "name": "python3"
  },
  "language_info": {
   "codemirror_mode": {
    "name": "ipython",
    "version": 3
   },
   "file_extension": ".py",
   "mimetype": "text/x-python",
   "name": "python",
   "nbconvert_exporter": "python",
   "pygments_lexer": "ipython3",
   "version": "3.10.6"
  },
  "orig_nbformat": 4,
  "vscode": {
   "interpreter": {
    "hash": "f17498c08ec4b69f201123d031cb5c8af330f66a9acbc9a993c3dd933a48c82b"
   }
  }
 },
 "nbformat": 4,
 "nbformat_minor": 2
}
