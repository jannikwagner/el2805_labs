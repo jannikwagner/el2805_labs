{
 "cells": [
  {
   "cell_type": "code",
   "execution_count": 1,
   "metadata": {},
   "outputs": [],
   "source": [
    "import maze2 as mz\n",
    "import numpy as np\n",
    "import matplotlib.pyplot as plt\n",
    "import qlearning as ql\n"
   ]
  },
  {
   "cell_type": "code",
   "execution_count": 2,
   "metadata": {},
   "outputs": [],
   "source": [
    "# Create a maze\n",
    "maze = np.array([\n",
    "    [0, 0, 1, 0, 0, 0, 0, 3],\n",
    "    [0, 0, 1, 0, 0, 1, 0, 0],\n",
    "    [0, 0, 1, 0, 0, 1, 1, 1],\n",
    "    [0, 0, 1, 0, 0, 1, 0, 0],\n",
    "    [0, 0, 0, 0, 0, 0, 0, 0],\n",
    "    [0, 1, 1, 1, 1, 1, 1, 0],\n",
    "    [0, 0, 0, 0, 1, 2, 0, 0]\n",
    "])\n",
    "# maze = np.array([\n",
    "#     [0,  0, 0, 3],\n",
    "#     [0,  0, 0, 0],\n",
    "#     [0,  2, 0, 0]\n",
    "# ])\n",
    "\n",
    "env = mz.Maze(maze)"
   ]
  },
  {
   "cell_type": "code",
   "execution_count": 8,
   "metadata": {},
   "outputs": [
    {
     "name": "stdout",
     "output_type": "stream",
     "text": [
      "value iteration\n"
     ]
    }
   ],
   "source": [
    "\n",
    "# Discount Factor\n",
    "gamma = 0.95\n",
    "# Accuracy treshold\n",
    "epsilon = 0.01\n",
    "V, policy = mz.value_iteration(env, gamma, epsilon)\n"
   ]
  },
  {
   "cell_type": "code",
   "execution_count": null,
   "metadata": {},
   "outputs": [],
   "source": [
    "method = \"ValIter\"\n",
    "path = env.simulate((0, 0), policy, method)\n",
    "print(path, len(path))\n"
   ]
  },
  {
   "cell_type": "code",
   "execution_count": 3,
   "metadata": {},
   "outputs": [
    {
     "name": "stderr",
     "output_type": "stream",
     "text": [
      "100%|██████████| 5000/5000 [00:46<00:00, 108.43it/s]\n"
     ]
    }
   ],
   "source": [
    "gamma = 0.95\n",
    "alpha = 0.1\n",
    "epsilon = 1/3\n",
    "n_episodes = 5000\n",
    "Q, policy = ql.qlearning(env, gamma, alpha, epsilon, n_episodes)\n",
    "np.save(\"test.npz\", Q)"
   ]
  },
  {
   "cell_type": "code",
   "execution_count": 4,
   "metadata": {},
   "outputs": [
    {
     "name": "stdout",
     "output_type": "stream",
     "text": [
      "[State(player=(0, 0), minotaur=(6, 5), key=0), State(player=(0, 1), minotaur=(6, 4), key=0), State(player=(1, 1), minotaur=(5, 4), key=0), State(player=(2, 1), minotaur=(5, 5), key=0), State(player=(3, 1), minotaur=(5, 4), key=0), State(player=(3, 0), minotaur=(4, 4), key=0), State(player=(4, 0), minotaur=(5, 4), key=0), State(player=(4, 0), minotaur=(5, 3), key=0), State(player=(5, 0), minotaur=(4, 3), key=0), State(player=(6, 0), minotaur=(4, 2), key=0), State(player=(0, 0), minotaur=(0, 0), key=0), State(player=(0, 0), minotaur=(0, 0), key=0)] 12\n"
     ]
    }
   ],
   "source": [
    "method = \"ValIter\"\n",
    "path = env.simulate((0, 0), policy, method)\n",
    "print(path, len(path))\n",
    "# mz.animate_solution(maze, path)"
   ]
  },
  {
   "cell_type": "code",
   "execution_count": null,
   "metadata": {},
   "outputs": [],
   "source": []
  }
 ],
 "metadata": {
  "kernelspec": {
   "display_name": "Python 3.10.6 ('el2805_4')",
   "language": "python",
   "name": "python3"
  },
  "language_info": {
   "codemirror_mode": {
    "name": "ipython",
    "version": 3
   },
   "file_extension": ".py",
   "mimetype": "text/x-python",
   "name": "python",
   "nbconvert_exporter": "python",
   "pygments_lexer": "ipython3",
   "version": "3.10.6"
  },
  "orig_nbformat": 4,
  "vscode": {
   "interpreter": {
    "hash": "f17498c08ec4b69f201123d031cb5c8af330f66a9acbc9a993c3dd933a48c82b"
   }
  }
 },
 "nbformat": 4,
 "nbformat_minor": 2
}
