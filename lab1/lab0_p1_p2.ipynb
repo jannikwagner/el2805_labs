{
 "cells": [
  {
   "cell_type": "markdown",
   "metadata": {},
   "source": [
    "# Lab 1\n",
    "In this notebook, we use the following modules `numpy` and `maze`. The latter is a modification of the `maze` provided as solution to lab0."
   ]
  },
  {
   "cell_type": "code",
   "execution_count": 1,
   "metadata": {},
   "outputs": [],
   "source": [
    "import numpy as np\n",
    "import maze as mz"
   ]
  },
  {
   "cell_type": "markdown",
   "metadata": {},
   "source": [
    "# Problem 1: The Maze and the Minotaur\n",
    "\n",
    "The objective of problem 1 is to leave the maze as quickly as possible without being eaten. We start first by describing the maze as a numpy array. "
   ]
  },
  {
   "cell_type": "code",
   "execution_count": 2,
   "metadata": {},
   "outputs": [],
   "source": [
    "# Description of the maze as a numpy array\n",
    "maze = np.array([\n",
    "    [0, 0, 1, 0, 0, 0, 0, 0],\n",
    "    [0, 0, 1, 0, 0, 1, 0, 0],\n",
    "    [0, 0, 1, 0, 0, 1, 1, 1],\n",
    "    [0, 0, 1, 0, 0, 1, 0, 0],\n",
    "    [0, 0, 0, 0, 0, 0, 0, 0],\n",
    "    [0, 1, 1, 1, 1, 1, 1, 0],\n",
    "    [0, 0, 0, 0, 1, 2, 0, 0]\n",
    "])\n",
    "# with the convention \n",
    "# 0 = empty cell\n",
    "# 1 = obstacle\n",
    "# 2 = exit of the Maze"
   ]
  },
  {
   "cell_type": "markdown",
   "metadata": {},
   "source": [
    "The method `maze.draw_maze()` helps us draw the maze given its numpy array discription.  "
   ]
  },
  {
   "cell_type": "code",
   "execution_count": 3,
   "metadata": {},
   "outputs": [
    {
     "data": {
      "image/png": "[encoded data removed]",
      "text/plain": [
       "<Figure size 800x700 with 1 Axes>"
      ]
     },
     "metadata": {},
     "output_type": "display_data"
    }
   ],
   "source": [
    "mz.draw_maze(maze)"
   ]
  },
  {
   "cell_type": "markdown",
   "metadata": {},
   "source": [
    "## Basic Maze"
   ]
  },
  {
   "cell_type": "markdown",
   "metadata": {},
   "source": [
    "### 1.a) MDP formulation\n",
    "\n",
    "We propose the following MDP formulation: \n",
    "\n",
    "#### State space $\\mathcal{S}$\n",
    "We model the state space as the set of all possible positions of the player and the minotaur in the maze. Note that we exclude state where the player's position is an obstacle since these are impossible states to be in for the player. Formally, the state space is\n",
    "\n",
    "$$\\mathcal{S} = \\big\\lbrace ((i,j),(k,l)):\\textrm{such that the cell\n",
    "} (i,j) \\textrm{ is not an obstacle}\\big\\rbrace.$$\n",
    "\n",
    "#### Action space $\\mathcal{A}$\n",
    "We allow the player to chose to either move `left`, `right`, `down`, `up` or not move at all (`stay`). Note that sometimes the player cannot move in a certain direction because of an obstacle or a wall, yet we permit this to be a possible action. We will see that this is not an issue as long as we define our transition probabilities and rewards appropriately.\n",
    "Formally, the action space is\n",
    "\n",
    "$$\\mathcal{A} = \\lbrace \\textrm{up}, \\textrm{ down}, \\textrm{ left}, \\textrm{ right}, \\textrm{ stay} \\rbrace.$$\n",
    "> **Note:** Once again, the choice of the action space is not unique. For instance one could remove the action `stay` from $\\mathcal{A}$, but then one should modify the transition probabilities accordingly as well as the rewards.  \n",
    "\n",
    "\n",
    "#### Transition probabilities $\\mathcal{P}$\n",
    "Note that there is randomness involved due to the movements of the minotaur.\n",
    "- If in some state $s=((i,j),(k,l))$ the Minotaur and Player position are the same, i.e., $(i,j)=(k,l)$, the player is eaten and thus the game ended and noone will move anymore, then $\\mathbb{P}(s \\vert s, a) = 1$.\n",
    "- If in some state $s=((i,j),(k,l))$ the Minotaur and the player are not in the same position but the player is at the goal position, i.e., $B=(i,j)\\ne(k,l)$, the player one and thus the game ended and noone will move anymore, then $\\mathbb{P}(s \\vert s, a) = 1$.\n",
    "- If at state $s=((i,j),(k,l))$ we are neither eaten nor at a goal state, i.e., $B\\ne(i,j)\\ne(k,l)$:\n",
    "   - If taking action (or move) $a$ does not lead to a wall or an obstacle, then the player position afterward will be $(i',j')\\ne(i,j)$. \n",
    "   - If, however, taking action (or move) $a$ leads to a wall or an obstacle, the player remains in his position, i.e., $(i',j')=(i,j)$. \n",
    "   - Additionally, let $(k'_h, l'_h), h=1,...,n$ be the $n$ different positions to which the minotaur can move without moving into a wall or staying at the same position, but with moving into obstacles. Then $n=2$ for corners, $n=3$ for edges, and $n=4$ else.\n",
    "   - Then let $s'_h=((i',j'),(k'_h,l'_h)), h=1,...,n$ be the different states we can end up in. Those will all have the same probability, i.e., $\\mathbb{P}(s'_h \\vert s, a) = \\frac{1}{n}, h=1,...,n$.\n",
    "\n",
    "\n",
    "> **Note**: Recall that for a fixed $s \\in \\mathcal{S}$ and $a \\in \\mathcal{A}$ we have $\\sum_{s' \\in \\mathcal{S}} \\mathbb{P}(s' \\vert s, a) = 1$, thus for all $s' \\in \\mathcal{S}$, $s \\in \\mathcal{S}$ and $a \\in \\mathcal{A}$ not covered above, we have $\\mathbb{P}(s' \\vert s, a) = 0$.\n",
    "\n",
    "#### Rewards $\\mathcal{R}$\n",
    "The objective of the player is to find the exit of the maze while avoiding the obstacles.   \n",
    "   - If at state $s$ we are eaten, the reward for all actions $a$ is $r(s,a) = 0$\n",
    "   - If at state $s$ we are not eaten but at the exit, the reward for all actions $a$ is $r(s,a) = 1$\n",
    "   - If at state $s$, taking action $a$, leads to a wall or an obstacle then $r(s,a) = -\\infty$\n",
    "   - If at state $s$, taking action $a$, leads to some other position in the maze that is not the exit nor a wall nor an obstacle, then $r(s, a) = 0$.\n",
    "> **Note**: Here the rewards are independent of time (i.e. $r_t(.,.) = r(.,.)$). \n",
    "\n",
    "\n",
    "#### Implementation\n",
    "The above MDP formulation is implemented as a class ``maze.Maze`` in the file [maze.py](./maze.py) which given a matrix description of the maze instanciates the state space, action space, transition probabilities and rewards. \n",
    "\n",
    "> **Note:** In the class `maze.Maze` each state $s = ((i,j),(k,l))$ is given a unique identifier $s_{id} \\in \\lbrace 0, , \\dots, \\vert S \\vert -1 \\rbrace$. In other words, the state space from an implementation perspective is viewed as the set of integers $\\lbrace 0, , \\dots, \\vert S \\vert -1 \\rbrace$. This mapping is done via the dictionary `self.map` and its inverse mapping via the dictionary `self.states`.   "
   ]
  },
  {
   "cell_type": "markdown",
   "metadata": {},
   "source": [
    "### 1.b) Alternative MDP formulation when not moving simultaneously (Player moves first)\n",
    "The difference is that when moving into the exit or into the minotaur, the minotaur won't take a step afterward.\n",
    "\n",
    "More formally, if in state $s=((i,j),(k,l))$ where $B\\ne(i,j)\\ne(k,l)$ (neither at exit nor eaten) and taking action $a$, where $a$ is an allowed action that leads to $(i',j')\\ne(i,j)$ with either moving into the minotaur $(i',j')=(k,l)$ or reaching the exit $B=(i',j')$, the minotaur will not take another move.\n",
    "\n",
    "I.e., the probability of reaching state $s'=((i',j'),(k,l))$ will be $\\mathbb{P}(s' \\vert s, a) = 1$ and the probability of reaching any other state $s''\\ne s'$ will be $\\mathbb{P}(s'' \\vert s, a) = 0$.\n",
    "\n",
    "Everything else is as before."
   ]
  },
  {
   "cell_type": "code",
   "execution_count": 4,
   "metadata": {},
   "outputs": [],
   "source": [
    "# Simulate the shortest path starting from position A\n",
    "def monte_carlo(env, policy, n):\n",
    "    method = 'DynProg';\n",
    "    start  = (0,0);\n",
    "    n_win = 0\n",
    "    for i in range(n):\n",
    "        path = env.simulate(start, policy, method);\n",
    "        end_state = path[-1]\n",
    "        if env.win(env.map[end_state]):\n",
    "            n_win += 1\n",
    "    return n_win/n"
   ]
  },
  {
   "cell_type": "code",
   "execution_count": 13,
   "metadata": {},
   "outputs": [],
   "source": [
    "def compare_simultaneous(maze, horizon, n):\n",
    "    print(\"simultaneous\")\n",
    "    env = mz.Maze(maze)\n",
    "    V, policy = mz.dynamic_programming(env, horizon)\n",
    "    p_win = monte_carlo(env, policy, n)\n",
    "    print(\"win: \", p_win)\n",
    "\n",
    "    print(\"not simultaneous\")\n",
    "    env = mz.Maze(maze, simultaneous=False)\n",
    "    V, policy = mz.dynamic_programming(env,horizon);\n",
    "    p_win = monte_carlo(env, policy, n)\n",
    "    print(\"win: \", p_win)"
   ]
  },
  {
   "cell_type": "code",
   "execution_count": 14,
   "metadata": {},
   "outputs": [
    {
     "name": "stdout",
     "output_type": "stream",
     "text": [
      "simultaneous\n",
      "win:  1.0\n",
      "eaten:  0.0\n",
      "else:  0.0\n",
      "not simultaneous\n",
      "win:  0.807\n",
      "eaten:  0.0\n",
      "else:  0.193\n"
     ]
    }
   ],
   "source": [
    "horizon = 20\n",
    "n = 1000\n",
    "compare_simultaneous(maze, horizon, n)"
   ]
  },
  {
   "cell_type": "code",
   "execution_count": 18,
   "metadata": {},
   "outputs": [
    {
     "name": "stdout",
     "output_type": "stream",
     "text": [
      "simultaneous\n",
      "win:  0.0\n",
      "eaten:  0.0\n",
      "else:  1.0\n",
      "not simultaneous\n",
      "win:  0.0\n",
      "eaten:  0.0\n",
      "else:  1.0\n"
     ]
    }
   ],
   "source": [
    "horizon = 10\n",
    "n = 100\n",
    "compare_simultaneous(maze, horizon, n)"
   ]
  },
  {
   "cell_type": "code",
   "execution_count": 19,
   "metadata": {},
   "outputs": [
    {
     "name": "stdout",
     "output_type": "stream",
     "text": [
      "simultaneous\n",
      "win:  1.0\n",
      "eaten:  0.0\n",
      "else:  0.0\n",
      "not simultaneous\n",
      "win:  1.0\n",
      "eaten:  0.0\n",
      "else:  0.0\n"
     ]
    }
   ],
   "source": [
    "horizon = 300\n",
    "n = 10\n",
    "compare_simultaneous(maze, horizon, n)"
   ]
  },
  {
   "cell_type": "markdown",
   "metadata": {},
   "source": [
    "##  Dynamic Programming \n",
    "\n",
    "Before solving the MDP problem, recall that the finite horizon objective function is \n",
    "$$\n",
    "    \\mathbb{E} \\Big[ \\sum_{t=0}^T r(s_t, a_t) \\Big],\n",
    "$$\n",
    "where $T$ is the horizon.\n",
    "Recall the Bellman equation \n",
    "\\begin{equation}\n",
    "\\forall s \\in \\mathcal{S} \\qquad  V(s) = \\max_{a \\in \\mathcal{A}} \\Big\\lbrace r(s,a) + \\sum_{s' \\in \\mathcal{S}} \\mathbb{P}(s'\\vert s,a) V(s') \\Big\\rbrace\n",
    "\\end{equation}\n",
    "The dynamic programming solution for the finite horizon MDP problem consists of solving the above backward recursion. The method `maze.dynamic_programming` achieves this. \n",
    "> **Note:** To find the optimal path, it is enough to set the time horizon $T = 10$. Indeed, looking at the maze one can see that the player needs at least 10 steps to attain the exit $B$, if her starting position is at $A$. In fact if you set the time horizon less than 10, you will see that you do not find the optimal path.\n",
    "\n"
   ]
  },
  {
   "cell_type": "markdown",
   "metadata": {},
   "source": [
    "### 1.c)"
   ]
  },
  {
   "cell_type": "code",
   "execution_count": null,
   "metadata": {},
   "outputs": [],
   "source": [
    "env = mz.Maze(maze)"
   ]
  },
  {
   "cell_type": "code",
   "execution_count": null,
   "metadata": {},
   "outputs": [],
   "source": [
    "# Finite horizon\n",
    "horizon = 20\n",
    "# Solve the MDP problem with dynamic programming \n",
    "V, policy = mz.dynamic_programming(env,horizon);"
   ]
  },
  {
   "cell_type": "code",
   "execution_count": null,
   "metadata": {},
   "outputs": [
    {
     "data": {
      "text/plain": [
       "[((0, 0), (6, 5)),\n",
       " ((0, 1), (6, 4)),\n",
       " ((1, 1), (6, 5)),\n",
       " ((2, 1), (6, 4)),\n",
       " ((3, 1), (6, 3)),\n",
       " ((4, 1), (5, 3)),\n",
       " ((4, 2), (6, 3)),\n",
       " ((4, 3), (5, 3)),\n",
       " ((4, 4), (5, 2)),\n",
       " ((4, 5), (4, 2)),\n",
       " ((4, 6), (5, 2)),\n",
       " ((4, 7), (4, 2)),\n",
       " ((5, 7), (3, 2)),\n",
       " ((6, 7), (3, 3)),\n",
       " ((6, 6), (2, 3)),\n",
       " ((6, 5), (1, 3)),\n",
       " ((6, 5), (1, 3)),\n",
       " ((6, 5), (1, 3)),\n",
       " ((6, 5), (1, 3)),\n",
       " ((6, 5), (1, 3)),\n",
       " ((6, 5), (1, 3))]"
      ]
     },
     "execution_count": 14,
     "metadata": {},
     "output_type": "execute_result"
    }
   ],
   "source": [
    "# Simulate the shortest path starting from position A\n",
    "method = 'DynProg';\n",
    "start  = (0,0);\n",
    "path = env.simulate(start, policy, method);\n",
    "path"
   ]
  },
  {
   "cell_type": "code",
   "execution_count": null,
   "metadata": {},
   "outputs": [
    {
     "data": {
      "image/png": "[encoded data removed]",
      "text/plain": [
       "<Figure size 800x700 with 1 Axes>"
      ]
     },
     "metadata": {},
     "output_type": "display_data"
    }
   ],
   "source": [
    "# Show the shortest path \n",
    "mz.animate_solution(maze, path, \"results/1.c\")"
   ]
  },
  {
   "cell_type": "markdown",
   "metadata": {},
   "source": [
    "### 1.d) Minotaur can stay"
   ]
  },
  {
   "cell_type": "code",
   "execution_count": 5,
   "metadata": {},
   "outputs": [],
   "source": [
    "def compare_minotaur_can_stay(maze, max_T, n):\n",
    "    env1 = mz.Maze(maze)\n",
    "    env2 = mz.Maze(maze, minotaur_can_stay=True)\n",
    "\n",
    "    outcomes = []\n",
    "    for T in range(1, max_T+1):\n",
    "\n",
    "        V, policy = mz.dynamic_programming(env1, T)\n",
    "        n_win, n_eaten, n_else = monte_carlo(env1, policy, n)\n",
    "        p_1 = [n_win, n_eaten, n_else]\n",
    "\n",
    "        V, policy = mz.dynamic_programming(env2,T)\n",
    "        n_win, n_eaten, n_else = monte_carlo(env2, policy, n)\n",
    "        p_2 = [n_win, n_eaten, n_else]\n",
    "\n",
    "        outcomes.append([p_1, p_2])\n",
    "    return np.array(outcomes) / n"
   ]
  },
  {
   "cell_type": "code",
   "execution_count": 46,
   "metadata": {},
   "outputs": [],
   "source": [
    "horizon = 20\n",
    "outcomes = compare_minotaur_can_stay(maze, 30, 100)"
   ]
  },
  {
   "cell_type": "code",
   "execution_count": 52,
   "metadata": {},
   "outputs": [
    {
     "data": {
      "image/png": "[encoded data removed]",
      "text/plain": [
       "<Figure size 640x480 with 1 Axes>"
      ]
     },
     "metadata": {},
     "output_type": "display_data"
    }
   ],
   "source": [
    "import matplotlib.pyplot as plt\n",
    "for i in range(2):\n",
    "    j = 0\n",
    "    plt.plot(outcomes[:,i,j], label=\"p_{},{}\".format(i+1, j+1))\n",
    "plt.legend()\n",
    "plt.show()"
   ]
  },
  {
   "cell_type": "code",
   "execution_count": 13,
   "metadata": {},
   "outputs": [],
   "source": [
    "import tqdm\n",
    "def compare_envs(envs, max_T, n):\n",
    "    outcomes = []\n",
    "    for T in tqdm.tqdm(range(1, max_T+1)):\n",
    "        p_s = []\n",
    "\n",
    "        for env in envs:\n",
    "            V, policy = mz.dynamic_programming(env, T)\n",
    "            p = monte_carlo(env, policy, n)\n",
    "            p_s.append(p)\n",
    "        outcomes.append(p_s)\n",
    "\n",
    "    return np.array(outcomes)"
   ]
  },
  {
   "cell_type": "code",
   "execution_count": 14,
   "metadata": {},
   "outputs": [],
   "source": [
    "env1 = mz.Maze(maze)\n",
    "env3 = mz.Maze(maze, simultaneous=False)\n",
    "env2 = mz.Maze(maze, minotaur_can_stay=True)\n",
    "env4 = mz.Maze(maze, simultaneous=False, minotaur_can_stay=True)\n",
    "envs = [env1, env2, env3, env4]\n",
    "names = [\"normal\", \"turns\", \"minotaur can stay\", \"turns and minotaur can stay\"]"
   ]
  },
  {
   "cell_type": "code",
   "execution_count": 15,
   "metadata": {},
   "outputs": [
    {
     "name": "stderr",
     "output_type": "stream",
     "text": [
      " 83%|████████▎ | 25/30 [08:52<03:04, 36.99s/it]"
     ]
    }
   ],
   "source": [
    "outcomes = compare_envs(envs, 30, 1000)"
   ]
  },
  {
   "cell_type": "code",
   "execution_count": null,
   "metadata": {},
   "outputs": [],
   "source": [
    "def plot_outcomes(outcomes, names):\n",
    "    for i in range(len(names)):\n",
    "        plt.plot(outcomes[:,i], label=names[i])\n",
    "    plt.xlabel(\"horizon\")\n",
    "    plt.ylabel(\"probability of winning\")\n",
    "    plt.title(\"Probability of winning for different environments\")\n",
    "    plt.legend()\n",
    "    # plt.show()\n",
    "    plt.savefig(\"1.b.png\")"
   ]
  },
  {
   "cell_type": "code",
   "execution_count": null,
   "metadata": {},
   "outputs": [
    {
     "data": {
      "image/png": "[encoded data removed]",
      "text/plain": [
       "<Figure size 640x480 with 1 Axes>"
      ]
     },
     "metadata": {},
     "output_type": "display_data"
    }
   ],
   "source": [
    "import matplotlib.pyplot as plt\n",
    "plot_outcomes(outcomes, names)"
   ]
  },
  {
   "cell_type": "markdown",
   "metadata": {},
   "source": [
    "## Alternative rewards"
   ]
  },
  {
   "cell_type": "code",
   "execution_count": 66,
   "metadata": {},
   "outputs": [
    {
     "data": {
      "image/png": "[encoded data removed]",
      "text/plain": [
       "<Figure size 800x700 with 1 Axes>"
      ]
     },
     "metadata": {},
     "output_type": "display_data"
    }
   ],
   "source": [
    "env = mz.Maze(maze)\n",
    "env.set_rewards(0, 1,-100, 0)\n",
    "V, policy = mz.dynamic_programming(env, 20)\n",
    "path = env.simulate((0,0), policy, 'DynProg')\n",
    "print(path)\n",
    "mz.animate_solution(maze, path)"
   ]
  },
  {
   "cell_type": "markdown",
   "metadata": {},
   "source": [
    "## Value Iteration\n",
    "\n",
    "Here we solve the discounted infinite-horizon MDP problem using value iteration, the objective here is to find a stationary policy $\\pi$ that minimizes the infinite horizon objective with a discount factor $\\gamma$ \n",
    "$$\n",
    "    \\mathbb{E} \\Big[\\sum_{t=0}^\\infty \\gamma^t r\\big(s_t, \\pi(s_t)\\big) \\Big].\n",
    "$$\n",
    "Recall the Bellman equation in the case of a stationary policy $\\pi$ \n",
    "\\begin{equation}\n",
    "\\forall s \\in \\mathcal{S} \\qquad  V^*(s) = \\max_{\\pi} \\Big\\lbrace r(s,\\pi(s)) + \\gamma \\sum_{s' \\in \\mathcal{S}} \\mathbb{P}(s'\\vert s,\\pi(s)) V^*(s') \\Big\\rbrace\n",
    "\\end{equation}\n",
    "or equivalently in terms of the Bellman operator $\\mathcal{L}$ \n",
    "\\begin{equation}\n",
    "V^* =  \\mathcal{L}(V^*)\n",
    "\\end{equation}\n",
    "where \n",
    "\\begin{equation}\n",
    "   \\forall s \\in \\mathcal{S} \\qquad  \\mathcal{L}(V)(s) = \\max_{\\pi} \\Big\\lbrace r(s,\\pi(s)) + \\gamma \\sum_{s' \\in \\mathcal{S}} \\mathbb{P}(s'\\vert s,\\pi(s)) V(s') \\Big\\rbrace. \n",
    "\\end{equation}\n",
    "Value iteration solves the Bellman equation described above. This method is implemented as `maze.value_iteration` in the file [maze.py]().\n",
    "\n",
    "> **Note:** Recall that the mapping $\\mathcal{L}$ is a contraction, therefore value iteration converges. To achieve an $\\varepsilon>0$ approximation (i.e. $\\Vert V^* - V_{n+1} \\Vert \\le \\varepsilon$),\n",
    " the stopping criterion of value iteration is $\\Vert V - \\mathcal{L}(V) \\Vert < \\frac{1-\\gamma}{\\gamma}\\varepsilon$."
   ]
  },
  {
   "cell_type": "markdown",
   "metadata": {},
   "source": []
  },
  {
   "cell_type": "markdown",
   "metadata": {},
   "source": []
  },
  {
   "cell_type": "markdown",
   "metadata": {},
   "source": []
  },
  {
   "cell_type": "markdown",
   "metadata": {},
   "source": []
  },
  {
   "cell_type": "code",
   "execution_count": null,
   "metadata": {},
   "outputs": [],
   "source": []
  },
  {
   "cell_type": "code",
   "execution_count": null,
   "metadata": {},
   "outputs": [],
   "source": []
  },
  {
   "cell_type": "markdown",
   "metadata": {},
   "source": []
  },
  {
   "cell_type": "code",
   "execution_count": null,
   "metadata": {},
   "outputs": [],
   "source": []
  },
  {
   "cell_type": "markdown",
   "metadata": {},
   "source": [
    "### 1.e)\n",
    "We model dying from poison as the minotaur being teleported to the curent player position. Let $m$ be the mean of the geometric distribution. Then $\\theta=\\frac{1}{m}$ is the probability to die from poison at each step. Let $p(s'|s,a)$ be the probability distribution from before. Construct a new probability distribution $q(s'|s,a)$ from it as follows:\n",
    "- If at state $s$ the player is either eaten or at the exit, let $q(s'|s,a)=p(s'|s,a)$ as before, for all actions $a$ and states $s'$.\n",
    "- Else, if at state $s=((i,j),(k,l))$, let $s'=((i,j),(i,j))$ be the state where the minotaur was just teleported to the player's position. Then, for all actions $a$ let $q(s'|s,a)=(1-\\theta)p(s'|s,a) + \\theta$ and for all states $s''\\ne s'$ let $q(s''|s,a)=(1-\\theta)p(s''|s,a)$.\n",
    "\n",
    "We chose to model dying from poison as the minotaur being teleported to the curent player position because this way we don't have to add new states."
   ]
  },
  {
   "cell_type": "code",
   "execution_count": 5,
   "metadata": {},
   "outputs": [],
   "source": [
    "env = mz.Maze(maze, poison_prob=1/30)\n",
    "# Discount Factor\n",
    "gamma   = 0.95; \n",
    "# Accuracy treshold\n",
    "epsilon = 0.001;"
   ]
  },
  {
   "cell_type": "code",
   "execution_count": 6,
   "metadata": {},
   "outputs": [],
   "source": [
    "V, policy = mz.value_iteration(env, gamma, epsilon)"
   ]
  },
  {
   "cell_type": "code",
   "execution_count": 10,
   "metadata": {},
   "outputs": [
    {
     "data": {
      "text/plain": [
       "[((0, 0), (6, 5)),\n",
       " ((0, 1), (6, 6)),\n",
       " ((1, 1), (6, 7)),\n",
       " ((2, 1), (5, 7)),\n",
       " ((2, 1), (2, 1)),\n",
       " ((2, 1), (2, 1))]"
      ]
     },
     "execution_count": 10,
     "metadata": {},
     "output_type": "execute_result"
    }
   ],
   "source": [
    "method = 'ValIter';\n",
    "start  = (0,0);\n",
    "path = env.simulate(start, policy, method)\n",
    "path"
   ]
  },
  {
   "cell_type": "code",
   "execution_count": 11,
   "metadata": {},
   "outputs": [
    {
     "data": {
      "image/png": "[encoded data removed]",
      "text/plain": [
       "<Figure size 800x700 with 1 Axes>"
      ]
     },
     "metadata": {},
     "output_type": "display_data"
    }
   ],
   "source": [
    "# Show the shortest path \n",
    "mz.animate_solution(maze, path)"
   ]
  },
  {
   "cell_type": "markdown",
   "metadata": {},
   "source": [
    "### 1.f)"
   ]
  },
  {
   "cell_type": "code",
   "execution_count": 14,
   "metadata": {},
   "outputs": [
    {
     "name": "stdout",
     "output_type": "stream",
     "text": [
      "0.6087\n"
     ]
    }
   ],
   "source": [
    "N = 10000\n",
    "n_win = 0\n",
    "for _ in range(N):\n",
    "    path = env.simulate(start, policy, method)\n",
    "    end_state = env.map[path[-1]]\n",
    "    if env.win(end_state):\n",
    "        n_win += 1\n",
    "p_win = n_win / N\n",
    "print(p_win)"
   ]
  },
  {
   "cell_type": "markdown",
   "metadata": {},
   "source": [
    "## Additional Questions"
   ]
  },
  {
   "cell_type": "markdown",
   "metadata": {},
   "source": [
    "### 1.g) Theoretical questions\n",
    "\n",
    "#### 1) What does it mean that a learning algorithm is on-policy or off-policy?\n",
    "\n",
    "- Off-policy: An off-policy learner learns the value of the optimal policy independently of the agent’s actions.\n",
    "The policy used by the agent is often referred to as the behavior policy, and denoted by $\\pi_b$.\n",
    "- On-policy: An on-policy learner learns the value of the policy being carried out by the agent. The policy used by the agent is computed from the previous collected data. It is an active learning method as the gathered data is controlled.\n",
    "\n",
    "#### 2) State the convergence conditions for Q-Learning and SARSA.\n",
    "\n",
    "TODO"
   ]
  },
  {
   "cell_type": "markdown",
   "metadata": {},
   "source": [
    "### 1.h)\n",
    "\n",
    "#### Minotaur moves towards player with some porbability\n",
    "\n",
    "For the movements of the minotaur towards the player with probability $\\theta=35\\%$, the transition probabilities have to be adjusted in the following way: \n",
    "Let $p(s'|s,a)$ be the probability distribution from before. Construct a new probability distribution $q(s'|s,a)$ from it as follows:\n",
    "- If at state $s$ the player is either eaten or at the exit, let $q(s'|s,a)=p(s'|s,a)$ as before, for all actions $a$ and states $s'$.\n",
    "- For all the states $s=((i,j),(k,l))$, in which we are neither eaten nor at the exit ($B\\ne (i,j)\\ne (k,l)$), and actions $a$, let $s'$ be the state where the player has moved according to his action and the minotaur has moved towards him/her (in the simultaneous case this would probably be towards the position where the player was before he/she took his/her action). Then, let $q(s'|s,a)=(1-\\theta)p(s'|s,a) + \\theta$ and for all states $s''\\ne s'$ let $q(s''|s,a)=(1-\\theta)p(s''|s,a)$.\n",
    "\n",
    "#### Player needs keys\n",
    "\n",
    "For the modified problem with keys at some position $C$, we can add a boolean to each state to signal whether the keys were already picked up. I.e., $S=S_{old}\\times \\{0,1\\} = \\{(s,b):s\\in S_{old},b\\in \\{0,1\\}\\}$, where $S_{old}$ is the state space from before.\n",
    "\n",
    "The transition probabilities need to be updated such that in a state, the player will only have exited when he/she is at the exit but not eaten, but additionally he/she needs to have the keys. Additionally, the player needs to be able to get the keys, thus we need to transition from not having the key to having the key, when the player currently does not have the key but after taking its action lands on $C$.\n",
    "\n",
    "More formally, let's construct $q((s',b')|(s,b),a)$ from $p(s'|s,a)$ as before. For state $(s,b)=(((i,j),(k,l)),b)$, action $a$ and the following state $(s',b')=(((i',j'),(k',l')),b')$, \n",
    "- if $b=b'=1$, the situation is equivalent to the enviroment without key, thus $q((s',1)|(s,1),a)=p(s'|s,a)$\n",
    "- if $b=0$, also let $q((s',0)|(s,0),a)=p(s'|s,a)$ except for the following exceptions:\n",
    "    - the player cannot win yet when moving onto the exit $B$, thus, if $B=(i,j)\\ne (k,l)$, with action $a$ and if $(i',j')$ is the new position according to $a$ and $k',l'$ is one of $n$ possible new positions of the minotaur, then $q((s',0)|(s,0),a) = \\frac{1}{n}$ (and then adjust it according to the adjusted minotaur movements as before).\n",
    "    - when going to $C$ without having the key ($b=0$), we pick up the key ($b'=1$), thus, if $(i',j')=C$, then $q((s',1)|(s,0),a)=p(s'|s,a)$."
   ]
  },
  {
   "cell_type": "markdown",
   "metadata": {},
   "source": [
    "## Q-Learning and Sarsa [Bonus questions (1 bonus point in total)]"
   ]
  },
  {
   "cell_type": "markdown",
   "metadata": {},
   "source": []
  },
  {
   "cell_type": "markdown",
   "metadata": {},
   "source": [
    "## Random rewards \n",
    "\n",
    "### The new MDP formulation \n",
    "As stated in the problem statement, we only modify the rewards $\\mathcal{R}$ to be random. In fact we will only need to modify the rewards corresponding to the state action pair $(s,a)$ that lead to either the cell R1 or R2.\n",
    "#### Rewards $\\mathcal{R}$\n",
    "The objective of the player is to find the exit of the maze while avoiding the obstacles.    \n",
    "   - If at state $s$, taking action $a$, leads to the cell R1 then the reward is random according to the following     \n",
    "   $$ R(s,a) = \\begin{cases}\n",
    "            -7 \\quad \\textrm{ w.p. } 0.5 \\\\\n",
    "            -1 \\quad \\textrm{ w.p. } 0.5\n",
    "            \\end{cases} \n",
    "     $$\n",
    "   - If at state $s$, taking action $a$, leads to the cell R2 then the reward is random according to the following \n",
    "     $$ R(s,a) = \\begin{cases}\n",
    "            -2 \\quad \\textrm{ w.p. } 0.5 \\\\\n",
    "            -1 \\quad \\textrm{ w.p. } 0.5\n",
    "            \\end{cases} \n",
    "     $$\n",
    "   - The remaining rewards remain deterministic and with the same values as in the previous formulation.\n",
    "\n",
    "> **Note**: The fact that you stay in a cell for a number of rounds $n$ means that you are forced to incur the reward of ending up in that state for an additional $n$ times. Thus, instead of modifying the transition probabilities, we can modify the reward of ending up at that round by multiplying it by $n + 1$.  \n",
    "\n",
    "### Solving the new MDP \n",
    "As mentioned in the appendix [random_rewards.pdf]() (see in canvas), when solving the problem we will only have to look at the average rewards instead of the realization of the rewards, and the methods implemented for the previous case remain unchanged.  \n",
    "\n",
    "> **Note**: In the implementation, the only change will be the rewards. In addition, the policies we obtain remain deterministic. However, when running a policy the accumulated reward is random, but its average over multiple repetitions should converge to the value function. "
   ]
  },
  {
   "cell_type": "code",
   "execution_count": 24,
   "metadata": {
    "scrolled": true
   },
   "outputs": [],
   "source": [
    "# Description of the maze as a numpy array\n",
    "maze = np.array([\n",
    "    [ 0, 0, 1, 0, 0, 0,  0],\n",
    "    [ 0, 0, 1, 0, 0, 0,  0],\n",
    "    [ 0, 0, 1, 0, 0, 0,  0],\n",
    "    [ 0, 0, 0, 0, 0, 0, -1],\n",
    "    [ 0, 1, 1, 1, 1, 1,  0],\n",
    "    [-6, 0, 0, 0, 0, 2,  0]\n",
    "])\n",
    "# with the convention \n",
    "#  0 = empty cell\n",
    "#  1 = obstacle\n",
    "#  2 = exit of the Maze\n",
    "# -n = trapped cell with probability 0.5. If the cell is trapped the player must stay there for n times.  "
   ]
  },
  {
   "cell_type": "code",
   "execution_count": 25,
   "metadata": {},
   "outputs": [
    {
     "data": {
      "image/png": "[encoded data removed]",
      "text/plain": [
       "<Figure size 700x600 with 1 Axes>"
      ]
     },
     "metadata": {},
     "output_type": "display_data"
    }
   ],
   "source": [
    "mz.draw_maze(maze);"
   ]
  },
  {
   "cell_type": "markdown",
   "metadata": {},
   "source": [
    "### Dynamic programming \n",
    "\n",
    "Run the following python code to obtain the optimal solution of the newly formulated MDP with dynamic programming. "
   ]
  },
  {
   "cell_type": "code",
   "execution_count": 26,
   "metadata": {},
   "outputs": [],
   "source": [
    "# Create an environment maze\n",
    "env = mz.Maze(maze, random_rewards=True)\n",
    "# env.show()"
   ]
  },
  {
   "cell_type": "code",
   "execution_count": 27,
   "metadata": {},
   "outputs": [
    {
     "data": {
      "text/plain": [
       "[((0, 0), (5, 5)),\n",
       " ((1, 0), (5, 6)),\n",
       " ((2, 0), (4, 6)),\n",
       " ((2, 1), (5, 6)),\n",
       " ((3, 1), (5, 5)),\n",
       " ((3, 2), (4, 5)),\n",
       " ((3, 3), (5, 5)),\n",
       " ((3, 4), (5, 4)),\n",
       " ((3, 5), (4, 4)),\n",
       " ((3, 6), (3, 4)),\n",
       " ((4, 6), (2, 4)),\n",
       " ((5, 6), (1, 4)),\n",
       " ((5, 5), (1, 3)),\n",
       " ((5, 5), (1, 3)),\n",
       " ((5, 5), (1, 3)),\n",
       " ((5, 5), (1, 3))]"
      ]
     },
     "execution_count": 27,
     "metadata": {},
     "output_type": "execute_result"
    }
   ],
   "source": [
    "# Finite horizon\n",
    "horizon = 15\n",
    "# Solve the MDP problem with dynamic programming \n",
    "V, policy= mz.dynamic_programming(env,horizon);\n",
    "# Simulate the shortest path starting from position A\n",
    "method = 'DynProg';\n",
    "start  = (0,0);\n",
    "path = env.simulate(start, policy, method);\n",
    "path"
   ]
  },
  {
   "cell_type": "code",
   "execution_count": 28,
   "metadata": {},
   "outputs": [
    {
     "data": {
      "image/png": "[encoded data removed]",
      "text/plain": [
       "<Figure size 700x600 with 1 Axes>"
      ]
     },
     "metadata": {},
     "output_type": "display_data"
    }
   ],
   "source": [
    "# Show the shortest path \n",
    "mz.animate_solution(maze, path)"
   ]
  },
  {
   "cell_type": "markdown",
   "metadata": {},
   "source": [
    "> **Note:** The animation does not illustrate the event where the player is trapped as it assumes average rewards. Nonetheless, the shown policy is the optimal one.     "
   ]
  },
  {
   "cell_type": "markdown",
   "metadata": {},
   "source": [
    "### Value iteration  \n",
    "\n",
    "Run the following python code to obtain the optimal solution of the newly formulated MDP with value iteration."
   ]
  },
  {
   "cell_type": "code",
   "execution_count": 29,
   "metadata": {},
   "outputs": [
    {
     "data": {
      "text/plain": [
       "[((0, 0), (5, 5)),\n",
       " ((0, 1), (5, 6)),\n",
       " ((1, 1), (5, 5)),\n",
       " ((2, 1), (5, 6)),\n",
       " ((3, 1), (4, 6)),\n",
       " ((3, 2), (3, 6)),\n",
       " ((3, 3), (2, 6)),\n",
       " ((3, 4), (3, 6)),\n",
       " ((3, 4), (4, 6)),\n",
       " ((3, 5), (4, 5)),\n",
       " ((3, 6), (5, 5)),\n",
       " ((4, 6), (4, 5)),\n",
       " ((5, 6), (3, 5)),\n",
       " ((5, 5), (3, 4)),\n",
       " ((5, 5), (3, 4))]"
      ]
     },
     "execution_count": 29,
     "metadata": {},
     "output_type": "execute_result"
    }
   ],
   "source": [
    "# Discount Factor \n",
    "gamma   = 0.95; \n",
    "# Accuracy treshold \n",
    "epsilon = 0.0001;\n",
    "V, policy = mz.value_iteration(env, gamma, epsilon)\n",
    "\n",
    "method = 'ValIter';\n",
    "start  = (0,0);\n",
    "path = env.simulate(start, policy, method)\n",
    "path"
   ]
  },
  {
   "cell_type": "code",
   "execution_count": 30,
   "metadata": {},
   "outputs": [
    {
     "data": {
      "image/png": "[encoded data removed]",
      "text/plain": [
       "<Figure size 700x600 with 1 Axes>"
      ]
     },
     "metadata": {},
     "output_type": "display_data"
    }
   ],
   "source": [
    "# Show the shortest path \n",
    "mz.animate_solution(maze, path)"
   ]
  },
  {
   "cell_type": "markdown",
   "metadata": {},
   "source": [
    "# Problem 2 : Plucking berries"
   ]
  },
  {
   "cell_type": "markdown",
   "metadata": {},
   "source": [
    "### The new MDP formulation \n",
    "\n",
    "In this problem, the introduction of weights is translated in our previous MDP formulation by a modification of the rewards $\\mathcal{R}$. This is done by simply setting $r(s,a)$ to $w_{ij}$ if being in state $s$ and taking action $a$ leads to being in th new state $s'=(i,j)$. "
   ]
  },
  {
   "cell_type": "code",
   "execution_count": 31,
   "metadata": {},
   "outputs": [],
   "source": [
    "# Description of the maze as a numpy array\n",
    "maze = np.array([\n",
    "    [ 0, 0, 1, 0, 0, 0,  0],\n",
    "    [ 0, 0, 1, 0, 0, 0,  0],\n",
    "    [ 0, 0, 1, 0, 0, 0,  0],\n",
    "    [ 0, 0, 0, 0, 0, 0,  0],\n",
    "    [ 0, 1, 1, 1, 1, 1,  0],\n",
    "    [ 0, 0, 0, 0, 0, 2,  0]\n",
    "])\n",
    "\n",
    "# Description of the weight matrix as a numpy array\n",
    "w = np.array([\n",
    "    [0,    1, -100,   10,   10,   10, 10],\n",
    "    [0,    1, -100,   10,    0,    0, 10],\n",
    "    [0,    1, -100,   10,    0,    0, 10],\n",
    "    [0,    1,    1,    1,    0,    0, 10],\n",
    "    [0, -100, -100, -100, -100, -100, 10],\n",
    "    [0,    0,    0,    0,    0,   11, 10]\n",
    "])"
   ]
  },
  {
   "cell_type": "code",
   "execution_count": 32,
   "metadata": {},
   "outputs": [],
   "source": [
    "# Create an environment maze\n",
    "env = mz.Maze(maze, weights=w)\n",
    "# env.show()"
   ]
  },
  {
   "cell_type": "markdown",
   "metadata": {},
   "source": [
    "### Dynamic programming \n",
    "\n",
    "Run the following python code to obtain the optimal solution of the newly formulated MDP with dynamic programming."
   ]
  },
  {
   "cell_type": "code",
   "execution_count": 33,
   "metadata": {},
   "outputs": [
    {
     "name": "stdout",
     "output_type": "stream",
     "text": [
      "[((0, 0), (5, 5)), ((0, 1), (5, 4)), ((1, 1), (4, 4)), ((2, 1), (3, 4)), ((3, 1), (4, 4)), ((3, 2), (3, 4)), ((3, 2), (3, 3)), ((3, 3), (3, 2)), ((2, 3), (2, 2)), ((1, 3), (2, 1)), ((0, 3), (2, 0)), ((0, 4), (3, 0)), ((0, 5), (4, 0)), ((0, 6), (4, 1)), ((1, 6), (4, 0)), ((2, 6), (5, 0)), ((3, 6), (5, 1)), ((4, 6), (5, 0)), ((5, 6), (4, 0)), ((5, 5), (4, 1)), ((5, 5), (4, 1))]\n"
     ]
    }
   ],
   "source": [
    "# Finite horizon\n",
    "horizon = 20\n",
    "# Solve the MDP problem with dynamic programming \n",
    "V, policy = mz.dynamic_programming(env,horizon);\n",
    "# Simulate the shortest path starting from position A\n",
    "method = 'DynProg';\n",
    "start  = (0,0);\n",
    "path = env.simulate(start, policy, method);\n",
    "print(path)"
   ]
  },
  {
   "cell_type": "code",
   "execution_count": 34,
   "metadata": {},
   "outputs": [
    {
     "data": {
      "image/png": "[encoded data removed]",
      "text/plain": [
       "<Figure size 700x600 with 1 Axes>"
      ]
     },
     "metadata": {},
     "output_type": "display_data"
    }
   ],
   "source": [
    "# Show the shortest path \n",
    "mz.animate_solution(maze, path)"
   ]
  },
  {
   "cell_type": "markdown",
   "metadata": {},
   "source": [
    "> **Note:** By changing the horizon from $20$ to $12$ you should observe that the optimal policy changes.  "
   ]
  },
  {
   "cell_type": "markdown",
   "metadata": {},
   "source": [
    "### Value iteration  \n",
    "\n",
    "Run the following python code to obtain the optimal solution of the newly formulated MDP with value iteration."
   ]
  },
  {
   "cell_type": "code",
   "execution_count": 35,
   "metadata": {},
   "outputs": [
    {
     "data": {
      "text/plain": [
       "[((0, 0), (5, 5)),\n",
       " ((0, 1), (5, 6)),\n",
       " ((1, 1), (4, 6)),\n",
       " ((2, 1), (3, 6)),\n",
       " ((3, 1), (2, 6)),\n",
       " ((3, 2), (3, 6)),\n",
       " ((3, 3), (3, 5)),\n",
       " ((2, 3), (3, 6)),\n",
       " ((1, 3), (4, 6)),\n",
       " ((0, 3), (5, 6)),\n",
       " ((0, 4), (4, 6)),\n",
       " ((0, 5), (3, 6)),\n",
       " ((0, 6), (3, 5)),\n",
       " ((1, 6), (3, 4)),\n",
       " ((2, 6), (3, 3)),\n",
       " ((3, 6), (2, 3)),\n",
       " ((4, 6), (2, 2)),\n",
       " ((5, 6), (2, 3)),\n",
       " ((5, 5), (2, 2)),\n",
       " ((5, 5), (2, 2))]"
      ]
     },
     "execution_count": 35,
     "metadata": {},
     "output_type": "execute_result"
    }
   ],
   "source": [
    "# Discount Factor \n",
    "gamma   = 0.50; \n",
    "# Accuracy treshold \n",
    "epsilon = 0.001;\n",
    "V, policy = mz.value_iteration(env, gamma, epsilon)\n",
    "method = 'ValIter';\n",
    "start  = (0,0);\n",
    "path = env.simulate(start, policy, method)\n",
    "path"
   ]
  },
  {
   "cell_type": "code",
   "execution_count": 36,
   "metadata": {},
   "outputs": [
    {
     "data": {
      "image/png": "[encoded data removed]",
      "text/plain": [
       "<Figure size 700x600 with 1 Axes>"
      ]
     },
     "metadata": {},
     "output_type": "display_data"
    }
   ],
   "source": [
    "# Show the shortest path \n",
    "mz.animate_solution(maze, path)"
   ]
  },
  {
   "cell_type": "code",
   "execution_count": null,
   "metadata": {},
   "outputs": [],
   "source": []
  }
 ],
 "metadata": {
  "@webio": {
   "lastCommId": null,
   "lastKernelId": null
  },
  "kernelspec": {
   "display_name": "Python 3.10.6 ('el2805_4')",
   "language": "python",
   "name": "python3"
  },
  "language_info": {
   "codemirror_mode": {
    "name": "ipython",
    "version": 3
   },
   "file_extension": ".py",
   "mimetype": "text/x-python",
   "name": "python",
   "nbconvert_exporter": "python",
   "pygments_lexer": "ipython3",
   "version": "3.10.6"
  },
  "vscode": {
   "interpreter": {
    "hash": "f17498c08ec4b69f201123d031cb5c8af330f66a9acbc9a993c3dd933a48c82b"
   }
  }
 },
 "nbformat": 4,
 "nbformat_minor": 2
}
