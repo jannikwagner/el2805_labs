{
 "cells": [
  {
   "cell_type": "code",
   "execution_count": 1,
   "metadata": {},
   "outputs": [],
   "source": [
    "import maze2 as mz2\n",
    "import maze as mz\n",
    "import numpy as np\n",
    "import matplotlib.pyplot as plt\n",
    "import qlearning as ql\n",
    "from sarsa import sarsa\n",
    "from MC import mc\n",
    "import tqdm\n",
    "from utility import monte_carlo_success"
   ]
  },
  {
   "cell_type": "code",
   "execution_count": 2,
   "metadata": {},
   "outputs": [],
   "source": [
    "# Create a maze\n",
    "maze = np.array([\n",
    "    [0, 0, 1, 0, 0, 0, 0, 3],\n",
    "    [0, 0, 1, 0, 0, 1, 0, 0],\n",
    "    [0, 0, 1, 0, 0, 1, 1, 1],\n",
    "    [0, 0, 1, 0, 0, 1, 0, 0],\n",
    "    [0, 0, 0, 0, 0, 0, 0, 0],\n",
    "    [0, 1, 1, 1, 1, 1, 1, 0],\n",
    "    [0, 0, 0, 0, 1, 2, 0, 0]\n",
    "])\n",
    "env = mz2.Maze(maze)\n",
    "env_p0 = mz2.Maze(maze, poison_prob=0)"
   ]
  },
  {
   "cell_type": "code",
   "execution_count": 3,
   "metadata": {},
   "outputs": [],
   "source": [
    "f1 = \"results/VI_m2_p0_g0.98.npy\""
   ]
  },
  {
   "cell_type": "code",
   "execution_count": 49,
   "metadata": {},
   "outputs": [],
   "source": [
    "# Discount Factor\n",
    "gamma = 0.98\n",
    "# Accuracy treshold\n",
    "epsilon = 0.0001\n",
    "V, policy_1 = mz2.value_iteration(env_p0, gamma, epsilon)\n",
    "np.save(f1, (V))"
   ]
  },
  {
   "cell_type": "code",
   "execution_count": 4,
   "metadata": {},
   "outputs": [],
   "source": [
    "V = np.load(f1, allow_pickle=True)\n",
    "policy_1 = env.transition_probabilities.transpose(1,2,0).dot(V).argmax(axis=1)"
   ]
  },
  {
   "cell_type": "code",
   "execution_count": 52,
   "metadata": {},
   "outputs": [
    {
     "name": "stderr",
     "output_type": "stream",
     "text": [
      "100%|██████████| 1000/1000 [00:05<00:00, 196.95it/s]"
     ]
    },
    {
     "name": "stdout",
     "output_type": "stream",
     "text": [
      "0.574\n",
      "26.95143529126679 49.120602669713875\n"
     ]
    },
    {
     "name": "stderr",
     "output_type": "stream",
     "text": [
      "\n"
     ]
    }
   ],
   "source": [
    "print(monte_carlo_success(policy_1, env))\n",
    "print(V[env.start_state()], V[env.winning_state_representative])"
   ]
  },
  {
   "cell_type": "code",
   "execution_count": 10,
   "metadata": {},
   "outputs": [],
   "source": [
    "f2 = \"results/q50k_m2_p0_eps0.2_g0.98.npy\""
   ]
  },
  {
   "cell_type": "code",
   "execution_count": null,
   "metadata": {},
   "outputs": [],
   "source": [
    "alpha = 2/3\n",
    "epsilon = 0.2\n",
    "n_episodes = 50000\n",
    "Q_2, policy_2, v_start_2 = ql.qlearning(env_p0, gamma, alpha, epsilon, n_episodes)\n",
    "np.save(f2, (Q_2))"
   ]
  },
  {
   "cell_type": "code",
   "execution_count": 20,
   "metadata": {},
   "outputs": [],
   "source": [
    "Q_2 = np.load(f2, allow_pickle=True)\n",
    "policy_2 = Q_2.argmax(axis=1)"
   ]
  },
  {
   "cell_type": "code",
   "execution_count": 21,
   "metadata": {},
   "outputs": [
    {
     "name": "stderr",
     "output_type": "stream",
     "text": [
      "100%|██████████| 1000/1000 [00:05<00:00, 191.13it/s]"
     ]
    },
    {
     "name": "stdout",
     "output_type": "stream",
     "text": [
      "0.533\n",
      "9.98675209994707\n"
     ]
    },
    {
     "name": "stderr",
     "output_type": "stream",
     "text": [
      "\n"
     ]
    }
   ],
   "source": [
    "print(monte_carlo_success(policy_2, env))\n",
    "print(Q_2[env.start_state()].max())"
   ]
  },
  {
   "cell_type": "code",
   "execution_count": 22,
   "metadata": {},
   "outputs": [],
   "source": [
    "f3 = \"results/q50k_m2_p0_eps0.1_g0.98.npy\""
   ]
  },
  {
   "cell_type": "code",
   "execution_count": null,
   "metadata": {},
   "outputs": [],
   "source": [
    "alpha = 2/3\n",
    "epsilon = 0.1\n",
    "n_episodes = 50000\n",
    "Q_3, policy_3, v_start_3 = ql.qlearning(env_p0, gamma, alpha, epsilon, n_episodes)\n",
    "np.save(f3, (Q_3))"
   ]
  },
  {
   "cell_type": "code",
   "execution_count": 23,
   "metadata": {},
   "outputs": [],
   "source": [
    "Q_3 = np.load(f3, allow_pickle=True)\n",
    "policy_3 = Q_3.argmax(axis=1)"
   ]
  },
  {
   "cell_type": "code",
   "execution_count": 24,
   "metadata": {},
   "outputs": [
    {
     "name": "stderr",
     "output_type": "stream",
     "text": [
      "100%|██████████| 1000/1000 [00:04<00:00, 204.06it/s]"
     ]
    },
    {
     "name": "stdout",
     "output_type": "stream",
     "text": [
      "0.517\n",
      "10.31649439132762\n"
     ]
    },
    {
     "name": "stderr",
     "output_type": "stream",
     "text": [
      "\n"
     ]
    }
   ],
   "source": [
    "print(monte_carlo_success(policy_3, env))\n",
    "print(Q_3[env.start_state()].max())"
   ]
  },
  {
   "cell_type": "code",
   "execution_count": 9,
   "metadata": {},
   "outputs": [
    {
     "data": {
      "image/png": "[encoded data removed]",
      "text/plain": [
       "<Figure size 640x480 with 1 Axes>"
      ]
     },
     "metadata": {},
     "output_type": "display_data"
    }
   ],
   "source": [
    "plt.plot(v_start_2, label=\"eps=0.2\")\n",
    "plt.plot(v_start_3, label=\"eps=0.1\")\n",
    "plt.xlabel(\"Episode\")\n",
    "plt.ylabel(\"V(s_0)\")\n",
    "plt.hlines(V[env.start_state()], 0, n_episodes, label=\"VI\")\n",
    "plt.legend()\n",
    "plt.title(\"Q-learning, eps=0.2 vs eps=0.1\")\n",
    "plt.savefig(\"1.i.b.pdf\")"
   ]
  },
  {
   "cell_type": "code",
   "execution_count": 10,
   "metadata": {},
   "outputs": [],
   "source": [
    "epsilon = 0.2"
   ]
  },
  {
   "cell_type": "code",
   "execution_count": 29,
   "metadata": {},
   "outputs": [],
   "source": [
    "f4 = \"results/q50k_m2_p0_eps0.2_g0.98_a0.6.npy\""
   ]
  },
  {
   "cell_type": "code",
   "execution_count": null,
   "metadata": {},
   "outputs": [],
   "source": [
    "alpha = 0.6\n",
    "n_episodes = 50000\n",
    "Q_4, policy_4, v_start_4 = ql.qlearning(env_p0, gamma, alpha, epsilon, n_episodes)\n",
    "np.save(f4, (Q_4))"
   ]
  },
  {
   "cell_type": "code",
   "execution_count": 30,
   "metadata": {},
   "outputs": [],
   "source": [
    "Q_4 = np.load(f4, allow_pickle=True)\n",
    "policy_4 = Q_4.argmax(axis=1)"
   ]
  },
  {
   "cell_type": "code",
   "execution_count": 27,
   "metadata": {},
   "outputs": [
    {
     "name": "stderr",
     "output_type": "stream",
     "text": [
      "100%|██████████| 1000/1000 [00:05<00:00, 187.50it/s]"
     ]
    },
    {
     "name": "stdout",
     "output_type": "stream",
     "text": [
      "0.54\n",
      "20.589329081236496\n"
     ]
    },
    {
     "name": "stderr",
     "output_type": "stream",
     "text": [
      "\n"
     ]
    }
   ],
   "source": [
    "print(monte_carlo_success(policy_4, env))\n",
    "print(Q_4[env.start_state()].max())"
   ]
  },
  {
   "cell_type": "code",
   "execution_count": 28,
   "metadata": {},
   "outputs": [],
   "source": [
    "f5 = \"results/q50k_m2_p0_eps0.2_g0.98_a0.9.npy\""
   ]
  },
  {
   "cell_type": "code",
   "execution_count": null,
   "metadata": {},
   "outputs": [],
   "source": [
    "alpha = 0.9\n",
    "n_episodes = 50000\n",
    "Q_5, policy_5, v_start_5 = ql.qlearning(env_p0, gamma, alpha, epsilon, n_episodes)\n",
    "np.save(f5, (Q_5))"
   ]
  },
  {
   "cell_type": "code",
   "execution_count": 29,
   "metadata": {},
   "outputs": [],
   "source": [
    "Q_5 = np.load(f5, allow_pickle=True)\n",
    "policy_5 = Q_5.argmax(axis=1)"
   ]
  },
  {
   "cell_type": "code",
   "execution_count": 30,
   "metadata": {},
   "outputs": [
    {
     "name": "stderr",
     "output_type": "stream",
     "text": [
      "100%|██████████| 1000/1000 [00:06<00:00, 166.47it/s]"
     ]
    },
    {
     "name": "stdout",
     "output_type": "stream",
     "text": [
      "0.387\n",
      "0.016383505323183\n"
     ]
    },
    {
     "name": "stderr",
     "output_type": "stream",
     "text": [
      "\n"
     ]
    }
   ],
   "source": [
    "print(monte_carlo_success(policy_5, env))\n",
    "print(Q_5[env.start_state()].max())"
   ]
  },
  {
   "cell_type": "code",
   "execution_count": 15,
   "metadata": {},
   "outputs": [
    {
     "data": {
      "image/png": "[encoded data removed]",
      "text/plain": [
       "<Figure size 640x480 with 1 Axes>"
      ]
     },
     "metadata": {},
     "output_type": "display_data"
    }
   ],
   "source": [
    "plt.plot(v_start_4, label=\"alpha=0.6\")\n",
    "plt.plot(v_start_5, label=\"alpha=0.9\")\n",
    "plt.xlabel(\"Episode\")\n",
    "plt.ylabel(\"V(s_0)\")\n",
    "plt.hlines(V[env.start_state()], 0, n_episodes, label=\"VI\")\n",
    "plt.legend()\n",
    "plt.title(\"Q-learning, alpha=0.6 vs alpha=0.9\")\n",
    "plt.savefig(\"1.i.c.pdf\")"
   ]
  },
  {
   "cell_type": "markdown",
   "metadata": {},
   "source": [
    "## 1.j"
   ]
  },
  {
   "cell_type": "code",
   "execution_count": 8,
   "metadata": {},
   "outputs": [],
   "source": [
    "f6 = \"results/sarsa50k_m2_p0_eps0.2_g0.98.npy\""
   ]
  },
  {
   "cell_type": "code",
   "execution_count": 9,
   "metadata": {},
   "outputs": [
    {
     "name": "stderr",
     "output_type": "stream",
     "text": [
      "100%|██████████| 50000/50000 [09:03<00:00, 91.96it/s] \n"
     ]
    }
   ],
   "source": [
    "gamma = 0.98\n",
    "alpha = 2/3\n",
    "epsilon = 0.2\n",
    "n_episodes = 50000\n",
    "Q_6, policy_6, v_start_6 = sarsa(env_p0, gamma, alpha, epsilon, n_episodes, eps_mode=0)\n",
    "np.save(f6, (Q_6))"
   ]
  },
  {
   "cell_type": "code",
   "execution_count": 10,
   "metadata": {},
   "outputs": [],
   "source": [
    "Q_6 = np.load(f6, allow_pickle=True)\n",
    "policy_6 = Q_6.argmax(axis=1)"
   ]
  },
  {
   "cell_type": "code",
   "execution_count": 11,
   "metadata": {},
   "outputs": [
    {
     "name": "stderr",
     "output_type": "stream",
     "text": [
      "100%|██████████| 1000/1000 [00:04<00:00, 226.76it/s]"
     ]
    },
    {
     "name": "stdout",
     "output_type": "stream",
     "text": [
      "0.537\n",
      "0.42266393997025176\n"
     ]
    },
    {
     "name": "stderr",
     "output_type": "stream",
     "text": [
      "\n"
     ]
    }
   ],
   "source": [
    "print(monte_carlo_success(policy_6, env))\n",
    "print(Q_6[env.start_state()].max())"
   ]
  },
  {
   "cell_type": "code",
   "execution_count": 12,
   "metadata": {},
   "outputs": [],
   "source": [
    "f7 = \"results/sarsa50k_m2_p0_eps0.1_g0.98.npy\""
   ]
  },
  {
   "cell_type": "code",
   "execution_count": 13,
   "metadata": {},
   "outputs": [
    {
     "name": "stderr",
     "output_type": "stream",
     "text": [
      "100%|██████████| 50000/50000 [09:03<00:00, 92.00it/s] \n"
     ]
    }
   ],
   "source": [
    "alpha = 2/3\n",
    "epsilon = 0.1\n",
    "n_episodes = 50000\n",
    "Q_7, policy_7, v_start_7 = sarsa(env_p0, gamma, alpha, epsilon, n_episodes, eps_mode=0)\n",
    "np.save(f7, (Q_7))"
   ]
  },
  {
   "cell_type": "code",
   "execution_count": 14,
   "metadata": {},
   "outputs": [],
   "source": [
    "Q_7 = np.load(f7, allow_pickle=True)\n",
    "policy_7 = Q_7.argmax(axis=1)"
   ]
  },
  {
   "cell_type": "code",
   "execution_count": 15,
   "metadata": {},
   "outputs": [
    {
     "name": "stderr",
     "output_type": "stream",
     "text": [
      "100%|██████████| 1000/1000 [00:04<00:00, 215.52it/s]"
     ]
    },
    {
     "name": "stdout",
     "output_type": "stream",
     "text": [
      "0.498\n",
      "0.8434356282583335\n"
     ]
    },
    {
     "name": "stderr",
     "output_type": "stream",
     "text": [
      "\n"
     ]
    }
   ],
   "source": [
    "print(monte_carlo_success(policy_7, env))\n",
    "print(Q_7[env.start_state()].max())"
   ]
  },
  {
   "cell_type": "code",
   "execution_count": 16,
   "metadata": {},
   "outputs": [
    {
     "data": {
      "image/png": "[encoded data removed]",
      "text/plain": [
       "<Figure size 640x480 with 1 Axes>"
      ]
     },
     "metadata": {},
     "output_type": "display_data"
    }
   ],
   "source": [
    "plt.plot(v_start_6, label=\"eps=0.2\")\n",
    "plt.plot(v_start_7, label=\"eps=0.1\")\n",
    "plt.xlabel(\"Episode\")\n",
    "plt.ylabel(\"V(s_0)\")\n",
    "plt.hlines(V[env.start_state()], 0, n_episodes, label=\"VI\")\n",
    "plt.legend()\n",
    "plt.title(\"SARSA, eps=0.2 vs eps=0.1\")\n",
    "plt.savefig(\"1.j.b.pdf\")"
   ]
  },
  {
   "cell_type": "code",
   "execution_count": 17,
   "metadata": {},
   "outputs": [],
   "source": [
    "epsilon = 0.2"
   ]
  },
  {
   "cell_type": "code",
   "execution_count": 18,
   "metadata": {},
   "outputs": [],
   "source": [
    "f8 = \"results/sarsa50k_m2_p0_eps0.2_g0.98_d0.6.npy\""
   ]
  },
  {
   "cell_type": "code",
   "execution_count": 19,
   "metadata": {},
   "outputs": [
    {
     "name": "stderr",
     "output_type": "stream",
     "text": [
      "100%|██████████| 50000/50000 [09:04<00:00, 91.90it/s] \n"
     ]
    }
   ],
   "source": [
    "alpha = 2/3\n",
    "n_episodes = 50000\n",
    "delta=0.6\n",
    "Q_8, policy_8, v_start_8 = sarsa(env_p0, gamma, alpha, epsilon, n_episodes, delta=delta, eps_mode=2)\n",
    "np.save(f8, (Q_8))"
   ]
  },
  {
   "cell_type": "code",
   "execution_count": 20,
   "metadata": {},
   "outputs": [],
   "source": [
    "Q_8 = np.load(f8, allow_pickle=True)\n",
    "policy_8 = Q_8.argmax(axis=1)"
   ]
  },
  {
   "cell_type": "code",
   "execution_count": 21,
   "metadata": {},
   "outputs": [
    {
     "name": "stderr",
     "output_type": "stream",
     "text": [
      "100%|██████████| 1000/1000 [00:05<00:00, 177.95it/s]"
     ]
    },
    {
     "name": "stdout",
     "output_type": "stream",
     "text": [
      "0.365\n",
      "2.7346266757740727\n"
     ]
    },
    {
     "name": "stderr",
     "output_type": "stream",
     "text": [
      "\n"
     ]
    }
   ],
   "source": [
    "print(monte_carlo_success(policy_8, env))\n",
    "print(Q_8[env.start_state()].max())"
   ]
  },
  {
   "cell_type": "code",
   "execution_count": 22,
   "metadata": {},
   "outputs": [],
   "source": [
    "f9 = \"results/q50k_m2_p0_eps0.2_g0.98_d0.9.npy\""
   ]
  },
  {
   "cell_type": "code",
   "execution_count": 23,
   "metadata": {},
   "outputs": [
    {
     "name": "stderr",
     "output_type": "stream",
     "text": [
      "100%|██████████| 50000/50000 [08:56<00:00, 93.13it/s] \n"
     ]
    }
   ],
   "source": [
    "alpha = 2/3\n",
    "delta = 0.9\n",
    "n_episodes = 50000\n",
    "Q_9, policy_9, v_start_9 = sarsa(env_p0, gamma, alpha, epsilon, n_episodes, delta=delta, eps_mode=2)\n",
    "np.save(f9, (Q_9))"
   ]
  },
  {
   "cell_type": "code",
   "execution_count": 24,
   "metadata": {},
   "outputs": [],
   "source": [
    "Q_9 = np.load(f9, allow_pickle=True)\n",
    "policy_9 = Q_9.argmax(axis=1)"
   ]
  },
  {
   "cell_type": "code",
   "execution_count": 25,
   "metadata": {},
   "outputs": [
    {
     "name": "stderr",
     "output_type": "stream",
     "text": [
      "100%|██████████| 1000/1000 [00:05<00:00, 185.68it/s]"
     ]
    },
    {
     "name": "stdout",
     "output_type": "stream",
     "text": [
      "0.388\n",
      "5.6571398763077605\n"
     ]
    },
    {
     "name": "stderr",
     "output_type": "stream",
     "text": [
      "\n"
     ]
    }
   ],
   "source": [
    "print(monte_carlo_success(policy_9, env))\n",
    "print(Q_9[env.start_state()].max())"
   ]
  },
  {
   "cell_type": "code",
   "execution_count": 26,
   "metadata": {},
   "outputs": [
    {
     "data": {
      "image/png": "[encoded data removed]",
      "text/plain": [
       "<Figure size 640x480 with 1 Axes>"
      ]
     },
     "metadata": {},
     "output_type": "display_data"
    }
   ],
   "source": [
    "plt.plot(v_start_8, label=\"delta=0.6\")\n",
    "plt.plot(v_start_9, label=\"delta=0.9\")\n",
    "plt.xlabel(\"Episode\")\n",
    "plt.ylabel(\"V(s_0)\")\n",
    "plt.hlines(V[env.start_state()], 0, n_episodes, label=\"VI\")\n",
    "plt.legend()\n",
    "plt.title(\"SARSA, delta=0.6 vs delta=0.9\")\n",
    "plt.savefig(\"1.j.c.pdf\")"
   ]
  },
  {
   "cell_type": "code",
   "execution_count": 31,
   "metadata": {},
   "outputs": [
    {
     "name": "stderr",
     "output_type": "stream",
     "text": [
      "100%|██████████| 10000/10000 [00:43<00:00, 228.70it/s]"
     ]
    },
    {
     "name": "stdout",
     "output_type": "stream",
     "text": [
      "0.5374\n",
      "20.589329081236496 48.49154019590369\n"
     ]
    },
    {
     "name": "stderr",
     "output_type": "stream",
     "text": [
      "\n"
     ]
    }
   ],
   "source": [
    "print(monte_carlo_success(policy_4, env, N=10000))\n",
    "print(Q_4[env.start_state()].max(), Q_4[env.winning_state_representative].max())"
   ]
  },
  {
   "cell_type": "code",
   "execution_count": 28,
   "metadata": {},
   "outputs": [
    {
     "name": "stderr",
     "output_type": "stream",
     "text": [
      "100%|██████████| 10000/10000 [00:44<00:00, 223.94it/s]"
     ]
    },
    {
     "name": "stdout",
     "output_type": "stream",
     "text": [
      "0.5538\n",
      "0.42266393997025176 38.38025887119001\n"
     ]
    },
    {
     "name": "stderr",
     "output_type": "stream",
     "text": [
      "\n"
     ]
    }
   ],
   "source": [
    "print(monte_carlo_success(policy_6, env, N=10000))\n",
    "print(Q_6[env.start_state()].max(), Q_6[env.winning_state_representative].max())"
   ]
  },
  {
   "cell_type": "code",
   "execution_count": 32,
   "metadata": {},
   "outputs": [
    {
     "name": "stderr",
     "output_type": "stream",
     "text": [
      "100%|██████████| 10000/10000 [00:42<00:00, 237.59it/s]"
     ]
    },
    {
     "name": "stdout",
     "output_type": "stream",
     "text": [
      "0.56\n",
      "26.95143529126679 49.120602669713875\n"
     ]
    },
    {
     "name": "stderr",
     "output_type": "stream",
     "text": [
      "\n"
     ]
    }
   ],
   "source": [
    "print(monte_carlo_success(policy_1, env, N=10000))\n",
    "print(V[env.start_state()], V[env.winning_state_representative])"
   ]
  },
  {
   "cell_type": "code",
   "execution_count": 33,
   "metadata": {},
   "outputs": [
    {
     "data": {
      "text/plain": [
       "0.5486788399663538"
      ]
     },
     "execution_count": 33,
     "metadata": {},
     "output_type": "execute_result"
    }
   ],
   "source": [
    "V[env.start_state()]/ V[env.winning_state_representative]"
   ]
  },
  {
   "cell_type": "code",
   "execution_count": 34,
   "metadata": {},
   "outputs": [
    {
     "data": {
      "text/plain": [
       "0.01101253489166856"
      ]
     },
     "execution_count": 34,
     "metadata": {},
     "output_type": "execute_result"
    }
   ],
   "source": [
    "Q_6[env.start_state()].max() / Q_6[env.winning_state_representative].max()"
   ]
  },
  {
   "cell_type": "code",
   "execution_count": null,
   "metadata": {},
   "outputs": [
    {
     "data": {
      "text/plain": [
       "0.9824120533942784"
      ]
     },
     "execution_count": 64,
     "metadata": {},
     "output_type": "execute_result"
    }
   ],
   "source": [
    "V[env.winning_state_representative]*(1-gamma)"
   ]
  },
  {
   "cell_type": "code",
   "execution_count": null,
   "metadata": {},
   "outputs": [],
   "source": [
    "# env_old = mz.Maze(maze)\n",
    "env_old_p0 = mz.Maze(maze, poison_prob=0)\n",
    "f10 = \"results/VI_m_p0_g0.98.npy\"\n",
    "# Discount Factor\n",
    "gamma = 0.98\n",
    "# Accuracy treshold\n",
    "epsilon = 0.0001\n",
    "V_2, policy_V2 = mz.value_iteration(env_p0, gamma, epsilon)\n",
    "np.save(f10, (V))\n",
    "V = np.load(f10, allow_pickle=True)\n",
    "policy_V2 = env.transition_probabilities.transpose(1,2,0).dot(V).argmax(axis=1)"
   ]
  }
 ],
 "metadata": {
  "kernelspec": {
   "display_name": "Python 3.10.6 ('el2805_4')",
   "language": "python",
   "name": "python3"
  },
  "language_info": {
   "codemirror_mode": {
    "name": "ipython",
    "version": 3
   },
   "file_extension": ".py",
   "mimetype": "text/x-python",
   "name": "python",
   "nbconvert_exporter": "python",
   "pygments_lexer": "ipython3",
   "version": "3.10.6"
  },
  "orig_nbformat": 4,
  "vscode": {
   "interpreter": {
    "hash": "f17498c08ec4b69f201123d031cb5c8af330f66a9acbc9a993c3dd933a48c82b"
   }
  }
 },
 "nbformat": 4,
 "nbformat_minor": 2
}
