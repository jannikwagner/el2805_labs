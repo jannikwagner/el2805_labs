{
 "cells": [
  {
   "cell_type": "code",
   "execution_count": 1,
   "metadata": {},
   "outputs": [],
   "source": [
    "import maze as mz\n",
    "import numpy as np\n",
    "import matplotlib.pyplot as plt\n",
    "import qlearning as ql"
   ]
  },
  {
   "cell_type": "code",
   "execution_count": 2,
   "metadata": {},
   "outputs": [],
   "source": [
    "maze = np.array([\n",
    "    [0, 0, 1, 0, 0, 0, 0, 3],\n",
    "    [0, 0, 1, 0, 0, 1, 0, 0],\n",
    "    [0, 0, 1, 0, 0, 1, 1, 1],\n",
    "    [0, 0, 1, 0, 0, 1, 0, 0],\n",
    "    [0, 0, 0, 0, 0, 0, 0, 0],\n",
    "    [0, 1, 1, 1, 1, 1, 1, 0],\n",
    "    [0, 0, 0, 0, 1, 2, 0, 0]\n",
    "])"
   ]
  },
  {
   "cell_type": "code",
   "execution_count": 3,
   "metadata": {},
   "outputs": [],
   "source": [
    "env = mz.Maze(maze)"
   ]
  },
  {
   "cell_type": "code",
   "execution_count": null,
   "metadata": {},
   "outputs": [],
   "source": [
    "# Discount Factor\n",
    "gamma = 0.95\n",
    "# Accuracy treshold\n",
    "epsilon = 0.0001\n",
    "V, policy = mz.value_iteration(env, gamma, epsilon)"
   ]
  },
  {
   "cell_type": "code",
   "execution_count": 4,
   "metadata": {},
   "outputs": [
    {
     "name": "stdout",
     "output_type": "stream",
     "text": [
      "[State(player=(0, 0), minotaur=(6, 5), key=0), State(player=(1, 0), minotaur=(6, 6), key=0), State(player=(1, 1), minotaur=(6, 5), key=0), State(player=(2, 1), minotaur=(6, 4), key=0), State(player=(3, 1), minotaur=(5, 4), key=0), State(player=(4, 1), minotaur=(5, 5), key=0), State(player=(4, 2), minotaur=(4, 5), key=0), State(player=(4, 3), minotaur=(4, 6), key=0), State(player=(4, 4), minotaur=(5, 6), key=0), State(player=(3, 4), minotaur=(5, 5), key=0), State(player=(2, 4), minotaur=(5, 4), key=0), State(player=(1, 4), minotaur=(6, 4), key=0), State(player=(0, 4), minotaur=(6, 5), key=0), State(player=(0, 5), minotaur=(5, 5), key=0), State(player=(0, 6), minotaur=(4, 5), key=0), State(player=(0, 7), minotaur=(4, 6), key=1), State(player=(0, 6), minotaur=(3, 6), key=1), State(player=(0, 5), minotaur=(2, 6), key=1), State(player=(0, 4), minotaur=(2, 5), key=1), State(player=(1, 4), minotaur=(1, 5), key=1), State(player=(2, 4), minotaur=(1, 4), key=1), State(player=(3, 4), minotaur=(2, 4), key=1), State(player=(4, 4), minotaur=(3, 4), key=1), State(player=(4, 5), minotaur=(3, 3), key=1), State(player=(4, 6), minotaur=(2, 3), key=1), State(player=(4, 7), minotaur=(2, 2), key=1), State(player=(5, 7), minotaur=(3, 2), key=1), State(player=(6, 7), minotaur=(2, 2), key=1), State(player=(6, 6), minotaur=(3, 2), key=1), State(player=(6, 5), minotaur=(3, 3), key=1), State(player=(6, 5), minotaur=(3, 3), key=1)]\n"
     ]
    }
   ],
   "source": [
    "method = \"ValIter\"\n",
    "path = env.simulate((0, 0), policy, method)\n",
    "print(path)"
   ]
  },
  {
   "cell_type": "code",
   "execution_count": 4,
   "metadata": {},
   "outputs": [],
   "source": [
    "gamma = 0.95\n",
    "alpha = 0.1\n",
    "epsilon = 0.3\n",
    "n_episodes = 500\n",
    "f = \"test.npz.npy\""
   ]
  },
  {
   "cell_type": "code",
   "execution_count": 5,
   "metadata": {},
   "outputs": [
    {
     "name": "stderr",
     "output_type": "stream",
     "text": [
      "100%|██████████| 500/500 [00:03<00:00, 154.50it/s]\n"
     ]
    }
   ],
   "source": [
    "Q, policy = ql.qlearning(env, gamma, alpha, epsilon, n_episodes)\n",
    "np.save(f, Q)"
   ]
  },
  {
   "cell_type": "code",
   "execution_count": 6,
   "metadata": {},
   "outputs": [],
   "source": [
    "Q = np.load(f)"
   ]
  },
  {
   "cell_type": "code",
   "execution_count": 7,
   "metadata": {},
   "outputs": [
    {
     "data": {
      "text/plain": [
       "array([  0.83043452, -99.13960311,   0.80353838, -99.0975    ,\n",
       "         0.82988359])"
      ]
     },
     "execution_count": 7,
     "metadata": {},
     "output_type": "execute_result"
    }
   ],
   "source": [
    "Q[env.map[mz.State((0,0),(1,0),0)]]"
   ]
  },
  {
   "cell_type": "code",
   "execution_count": 8,
   "metadata": {},
   "outputs": [
    {
     "name": "stdout",
     "output_type": "stream",
     "text": [
      "[State(player=(0, 0), minotaur=(6, 5), key=0), State(player=(1, 0), minotaur=(6, 4), key=0), State(player=(1, 1), minotaur=(6, 5), key=0), State(player=(1, 0), minotaur=(6, 4), key=0), State(player=(1, 1), minotaur=(5, 4), key=0), State(player=(1, 0), minotaur=(4, 4), key=0), State(player=(1, 1), minotaur=(3, 4), key=0), State(player=(1, 1), minotaur=(2, 4), key=0), State(player=(2, 1), minotaur=(3, 4), key=0), State(player=(1, 1), minotaur=(2, 4), key=0), State(player=(2, 1), minotaur=(2, 5), key=0), State(player=(2, 0), minotaur=(2, 4), key=0), State(player=(2, 1), minotaur=(2, 3), key=0), State(player=(3, 1), minotaur=(2, 2), key=0), State(player=(3, 1), minotaur=(2, 3), key=0), State(player=(3, 0), minotaur=(2, 4), key=0), State(player=(4, 0), minotaur=(2, 5), key=0), State(player=(3, 0), minotaur=(2, 6), key=0), State(player=(3, 1), minotaur=(1, 6), key=0), State(player=(3, 1), minotaur=(1, 5), key=0), State(player=(2, 1), minotaur=(0, 5), key=0), State(player=(1, 1), minotaur=(1, 5), key=0), State(player=(1, 0), minotaur=(0, 5), key=0), State(player=(1, 0), minotaur=(0, 6), key=0), State(player=(1, 1), minotaur=(0, 7), key=0), State(player=(1, 0), minotaur=(1, 7), key=0), State(player=(1, 1), minotaur=(1, 6), key=0), State(player=(1, 0), minotaur=(1, 5), key=0), State(player=(2, 0), minotaur=(1, 4), key=0), State(player=(2, 0), minotaur=(0, 4), key=0), State(player=(3, 0), minotaur=(1, 4), key=0), State(player=(3, 0), minotaur=(3, 0), key=0), State(player=(3, 0), minotaur=(3, 0), key=0)] 33\n"
     ]
    }
   ],
   "source": [
    "method = \"ValIter\"\n",
    "path = env.simulate((0, 0), policy, method)\n",
    "print(path, len(path))"
   ]
  },
  {
   "cell_type": "code",
   "execution_count": 19,
   "metadata": {},
   "outputs": [
    {
     "data": {
      "text/plain": [
       "array([[0, 0, 0, 0, 0, 0, 0, 3],\n",
       "       [0, 0, 0, 0, 0, 0, 0, 0],\n",
       "       [0, 0, 0, 0, 0, 0, 0, 0],\n",
       "       [0, 0, 0, 0, 0, 0, 0, 0],\n",
       "       [0, 0, 0, 0, 0, 0, 0, 0],\n",
       "       [0, 0, 0, 0, 0, 0, 0, 0],\n",
       "       [0, 0, 0, 0, 0, 2, 0, 0]])"
      ]
     },
     "execution_count": 19,
     "metadata": {},
     "output_type": "execute_result"
    }
   ],
   "source": [
    "maze1 = maze.copy()\n",
    "maze1[maze1==1] = 0\n",
    "maze1"
   ]
  },
  {
   "cell_type": "code",
   "execution_count": 20,
   "metadata": {},
   "outputs": [],
   "source": [
    "env1 = mz.Maze(maze1, poison_prob=0, minotaur_direct_move_prob=0)"
   ]
  },
  {
   "cell_type": "code",
   "execution_count": 21,
   "metadata": {},
   "outputs": [
    {
     "name": "stderr",
     "output_type": "stream",
     "text": [
      "100%|██████████| 5000/5000 [01:30<00:00, 55.23it/s] \n"
     ]
    }
   ],
   "source": [
    "n_episodes = 5000\n",
    "Q, policy = ql.qlearning(env1, gamma, alpha, epsilon, n_episodes)\n",
    "np.save(f, Q)\n"
   ]
  },
  {
   "cell_type": "code",
   "execution_count": 22,
   "metadata": {},
   "outputs": [
    {
     "name": "stdout",
     "output_type": "stream",
     "text": [
      "[State(player=(0, 0), minotaur=(6, 5), key=0), State(player=(0, 1), minotaur=(6, 4), key=0), State(player=(0, 2), minotaur=(6, 5), key=0), State(player=(0, 3), minotaur=(6, 4), key=0), State(player=(0, 4), minotaur=(5, 4), key=0), State(player=(0, 5), minotaur=(5, 5), key=0), State(player=(0, 6), minotaur=(5, 6), key=0), State(player=(0, 7), minotaur=(5, 5), key=1), State(player=(1, 7), minotaur=(5, 6), key=1), State(player=(2, 7), minotaur=(6, 6), key=1), State(player=(2, 6), minotaur=(5, 6), key=1), State(player=(3, 6), minotaur=(5, 7), key=1), State(player=(4, 6), minotaur=(5, 6), key=1), State(player=(5, 6), minotaur=(4, 6), key=1), State(player=(6, 6), minotaur=(4, 7), key=1), State(player=(6, 5), minotaur=(3, 7), key=1), State(player=(6, 5), minotaur=(3, 7), key=1)] 17\n"
     ]
    }
   ],
   "source": [
    "method = \"ValIter\"\n",
    "path = env1.simulate((0, 0), policy, method)\n",
    "print(path, len(path))"
   ]
  },
  {
   "cell_type": "code",
   "execution_count": 23,
   "metadata": {},
   "outputs": [],
   "source": [
    "env2 = mz.Maze(maze1, poison_prob=0.01, minotaur_direct_move_prob=0.1)"
   ]
  },
  {
   "cell_type": "code",
   "execution_count": 24,
   "metadata": {},
   "outputs": [
    {
     "name": "stderr",
     "output_type": "stream",
     "text": [
      "100%|██████████| 5000/5000 [00:51<00:00, 97.68it/s] \n"
     ]
    }
   ],
   "source": [
    "n_episodes = 5000\n",
    "Q, policy = ql.qlearning(env2, gamma, alpha, epsilon, n_episodes, Q)\n",
    "np.save(f, Q)\n"
   ]
  },
  {
   "cell_type": "code",
   "execution_count": 25,
   "metadata": {},
   "outputs": [
    {
     "name": "stdout",
     "output_type": "stream",
     "text": [
      "[State(player=(0, 0), minotaur=(6, 5), key=0), State(player=(0, 1), minotaur=(6, 6), key=0), State(player=(1, 1), minotaur=(6, 7), key=0), State(player=(1, 2), minotaur=(6, 6), key=0), State(player=(1, 3), minotaur=(6, 5), key=0), State(player=(0, 3), minotaur=(6, 4), key=0), State(player=(0, 4), minotaur=(5, 4), key=0), State(player=(0, 5), minotaur=(5, 5), key=0), State(player=(0, 6), minotaur=(5, 4), key=0), State(player=(0, 6), minotaur=(5, 3), key=0), State(player=(0, 7), minotaur=(4, 3), key=1), State(player=(1, 7), minotaur=(4, 4), key=1), State(player=(2, 7), minotaur=(4, 5), key=1), State(player=(2, 7), minotaur=(4, 6), key=1), State(player=(3, 7), minotaur=(5, 6), key=1), State(player=(4, 7), minotaur=(5, 7), key=1), State(player=(4, 6), minotaur=(4, 7), key=1), State(player=(4, 5), minotaur=(5, 7), key=1), State(player=(5, 5), minotaur=(4, 7), key=1), State(player=(6, 5), minotaur=(3, 7), key=1), State(player=(6, 5), minotaur=(3, 7), key=1)] 21\n"
     ]
    }
   ],
   "source": [
    "method = \"ValIter\"\n",
    "path = env2.simulate((0, 0), policy, method)\n",
    "print(path, len(path))"
   ]
  },
  {
   "cell_type": "code",
   "execution_count": 26,
   "metadata": {},
   "outputs": [],
   "source": [
    "env3 = mz.Maze(maze, poison_prob=0.01, minotaur_direct_move_prob=0.1)"
   ]
  },
  {
   "cell_type": "code",
   "execution_count": 27,
   "metadata": {},
   "outputs": [
    {
     "name": "stderr",
     "output_type": "stream",
     "text": [
      "100%|██████████| 5000/5000 [01:00<00:00, 82.54it/s] \n"
     ]
    }
   ],
   "source": [
    "n_episodes = 5000\n",
    "Q, policy = ql.qlearning(env3, gamma, alpha, epsilon, n_episodes, Q)\n",
    "np.save(f, Q)\n"
   ]
  },
  {
   "cell_type": "code",
   "execution_count": 28,
   "metadata": {},
   "outputs": [
    {
     "name": "stdout",
     "output_type": "stream",
     "text": [
      "[State(player=(0, 0), minotaur=(6, 5), key=0), State(player=(1, 0), minotaur=(6, 6), key=0), State(player=(2, 0), minotaur=(6, 7), key=0), State(player=(3, 0), minotaur=(6, 6), key=0), State(player=(4, 0), minotaur=(5, 6), key=0), State(player=(4, 0), minotaur=(5, 5), key=0), State(player=(3, 0), minotaur=(5, 6), key=0), State(player=(4, 0), minotaur=(5, 5), key=0), State(player=(3, 0), minotaur=(4, 5), key=0), State(player=(3, 1), minotaur=(5, 5), key=0), State(player=(2, 1), minotaur=(6, 5), key=0), State(player=(3, 1), minotaur=(5, 5), key=0), State(player=(2, 1), minotaur=(6, 5), key=0), State(player=(3, 1), minotaur=(5, 5), key=0), State(player=(2, 1), minotaur=(4, 5), key=0), State(player=(2, 0), minotaur=(4, 4), key=0), State(player=(2, 1), minotaur=(4, 3), key=0), State(player=(3, 1), minotaur=(3, 3), key=0), State(player=(4, 1), minotaur=(3, 2), key=0), State(player=(4, 0), minotaur=(2, 2), key=0), State(player=(5, 0), minotaur=(3, 2), key=0), State(player=(5, 0), minotaur=(2, 2), key=0), State(player=(4, 0), minotaur=(2, 3), key=0), State(player=(4, 1), minotaur=(2, 4), key=0), State(player=(4, 0), minotaur=(2, 5), key=0), State(player=(4, 0), minotaur=(3, 5), key=0), State(player=(4, 0), minotaur=(4, 5), key=0), State(player=(4, 1), minotaur=(4, 4), key=0), State(player=(4, 1), minotaur=(4, 3), key=0), State(player=(4, 1), minotaur=(4, 4), key=0), State(player=(4, 1), minotaur=(4, 3), key=0), State(player=(4, 1), minotaur=(5, 3), key=0), State(player=(4, 2), minotaur=(5, 2), key=0), State(player=(4, 3), minotaur=(5, 1), key=0), State(player=(3, 3), minotaur=(6, 1), key=0), State(player=(3, 3), minotaur=(6, 0), key=0), State(player=(2, 3), minotaur=(5, 0), key=0), State(player=(2, 3), minotaur=(6, 0), key=0), State(player=(2, 3), minotaur=(5, 0), key=0), State(player=(2, 3), minotaur=(5, 1), key=0), State(player=(2, 3), minotaur=(4, 1), key=0), State(player=(3, 3), minotaur=(5, 1), key=0), State(player=(3, 4), minotaur=(5, 2), key=0), State(player=(2, 4), minotaur=(6, 2), key=0), State(player=(3, 4), minotaur=(5, 2), key=0), State(player=(2, 4), minotaur=(6, 2), key=0), State(player=(3, 4), minotaur=(5, 2), key=0), State(player=(2, 4), minotaur=(5, 3), key=0), State(player=(3, 4), minotaur=(5, 2), key=0), State(player=(2, 4), minotaur=(5, 1), key=0), State(player=(2, 3), minotaur=(5, 2), key=0), State(player=(3, 3), minotaur=(4, 2), key=0), State(player=(3, 4), minotaur=(3, 2), key=0), State(player=(2, 4), minotaur=(2, 2), key=0), State(player=(1, 4), minotaur=(1, 2), key=0), State(player=(2, 4), minotaur=(0, 2), key=0), State(player=(3, 4), minotaur=(0, 1), key=0), State(player=(4, 4), minotaur=(1, 1), key=0), State(player=(3, 4), minotaur=(2, 1), key=0), State(player=(3, 3), minotaur=(2, 2), key=0), State(player=(2, 3), minotaur=(3, 2), key=0), State(player=(1, 3), minotaur=(2, 2), key=0), State(player=(2, 3), minotaur=(2, 3), key=0), State(player=(2, 3), minotaur=(2, 3), key=0)] 64\n"
     ]
    }
   ],
   "source": [
    "method = \"ValIter\"\n",
    "path = env3.simulate((0, 0), policy, method)\n",
    "print(path, len(path))"
   ]
  },
  {
   "cell_type": "code",
   "execution_count": 45,
   "metadata": {},
   "outputs": [],
   "source": [
    "env6 = mz.Maze(maze1)"
   ]
  },
  {
   "cell_type": "code",
   "execution_count": 46,
   "metadata": {},
   "outputs": [
    {
     "name": "stderr",
     "output_type": "stream",
     "text": [
      "100%|██████████| 5000/5000 [00:40<00:00, 122.25it/s]\n"
     ]
    }
   ],
   "source": [
    "n_episodes = 5000\n",
    "Q, policy = ql.qlearning(env6, gamma, alpha, epsilon, n_episodes, Q)\n",
    "np.save(f, Q)"
   ]
  },
  {
   "cell_type": "code",
   "execution_count": 49,
   "metadata": {},
   "outputs": [
    {
     "name": "stdout",
     "output_type": "stream",
     "text": [
      "[State(player=(0, 0), minotaur=(6, 5), key=0), State(player=(0, 1), minotaur=(6, 4), key=0), State(player=(0, 1), minotaur=(5, 4), key=0), State(player=(0, 2), minotaur=(5, 5), key=0), State(player=(0, 3), minotaur=(5, 4), key=0), State(player=(1, 3), minotaur=(4, 4), key=0), State(player=(1, 4), minotaur=(3, 4), key=0), State(player=(1, 4), minotaur=(2, 4), key=0), State(player=(1, 5), minotaur=(2, 3), key=0), State(player=(0, 5), minotaur=(2, 4), key=0), State(player=(0, 6), minotaur=(1, 4), key=0), State(player=(0, 7), minotaur=(2, 4), key=1), State(player=(0, 6), minotaur=(3, 4), key=1), State(player=(1, 6), minotaur=(4, 4), key=1), State(player=(1, 5), minotaur=(5, 4), key=1), State(player=(1, 6), minotaur=(4, 4), key=1), State(player=(1, 5), minotaur=(3, 4), key=1), State(player=(1, 6), minotaur=(2, 4), key=1), State(player=(2, 6), minotaur=(1, 4), key=1), State(player=(3, 6), minotaur=(2, 4), key=1), State(player=(3, 5), minotaur=(2, 5), key=1), State(player=(4, 5), minotaur=(3, 5), key=1), State(player=(4, 4), minotaur=(2, 5), key=1), State(player=(4, 5), minotaur=(3, 5), key=1), State(player=(4, 4), minotaur=(4, 5), key=1), State(player=(5, 4), minotaur=(4, 4), key=1), State(player=(5, 5), minotaur=(4, 5), key=1), State(player=(6, 5), minotaur=(5, 5), key=1), State(player=(6, 5), minotaur=(5, 5), key=1)] 29\n"
     ]
    }
   ],
   "source": [
    "method = \"ValIter\"\n",
    "path = env6.simulate((0, 0), policy, method)\n",
    "print(path, len(path))"
   ]
  },
  {
   "cell_type": "code",
   "execution_count": 53,
   "metadata": {},
   "outputs": [
    {
     "name": "stdout",
     "output_type": "stream",
     "text": [
      "(array([0, 1, 1, 2, 2, 2, 2, 3, 3, 5, 5, 5, 5, 5, 5, 6]), array([2, 2, 5, 2, 5, 6, 7, 2, 5, 1, 2, 3, 4, 5, 6, 4]))\n"
     ]
    },
    {
     "name": "stderr",
     "output_type": "stream",
     "text": [
      "100%|██████████| 5000/5000 [00:42<00:00, 116.86it/s]\n"
     ]
    },
    {
     "name": "stdout",
     "output_type": "stream",
     "text": [
      "[State(player=(0, 0), minotaur=(6, 5), key=0), State(player=(1, 0), minotaur=(6, 4), key=0), State(player=(1, 1), minotaur=(6, 3), key=0), State(player=(1, 2), minotaur=(5, 3), key=0), State(player=(1, 3), minotaur=(4, 3), key=0), State(player=(1, 4), minotaur=(3, 3), key=0), State(player=(1, 5), minotaur=(2, 3), key=0), State(player=(0, 5), minotaur=(2, 4), key=0), State(player=(1, 5), minotaur=(1, 4), key=0), State(player=(1, 6), minotaur=(1, 5), key=0), State(player=(2, 6), minotaur=(1, 4), key=0), State(player=(1, 6), minotaur=(2, 4), key=0), State(player=(0, 6), minotaur=(1, 4), key=0), State(player=(0, 7), minotaur=(1, 3), key=1), State(player=(1, 7), minotaur=(1, 4), key=1), State(player=(1, 6), minotaur=(1, 5), key=1), State(player=(2, 6), minotaur=(1, 6), key=1), State(player=(3, 6), minotaur=(1, 7), key=1), State(player=(3, 7), minotaur=(1, 6), key=1), State(player=(4, 7), minotaur=(2, 6), key=1), State(player=(4, 7), minotaur=(4, 7), key=1), State(player=(4, 7), minotaur=(4, 7), key=1)] 22\n"
     ]
    },
    {
     "name": "stderr",
     "output_type": "stream",
     "text": [
      "100%|██████████| 5000/5000 [00:47<00:00, 105.31it/s]\n"
     ]
    },
    {
     "name": "stdout",
     "output_type": "stream",
     "text": [
      "[State(player=(0, 0), minotaur=(6, 5), key=0), State(player=(0, 0), minotaur=(6, 6), key=0), State(player=(0, 1), minotaur=(6, 5), key=0), State(player=(1, 1), minotaur=(5, 5), key=0), State(player=(1, 1), minotaur=(5, 4), key=0), State(player=(2, 1), minotaur=(4, 4), key=0), State(player=(3, 1), minotaur=(3, 4), key=0), State(player=(4, 1), minotaur=(3, 5), key=0), State(player=(4, 1), minotaur=(3, 4), key=0), State(player=(4, 1), minotaur=(3, 3), key=0), State(player=(3, 1), minotaur=(2, 3), key=0), State(player=(3, 1), minotaur=(3, 3), key=0), State(player=(3, 1), minotaur=(3, 2), key=0), State(player=(2, 1), minotaur=(4, 2), key=0), State(player=(2, 1), minotaur=(4, 3), key=0), State(player=(2, 2), minotaur=(5, 3), key=0), State(player=(2, 3), minotaur=(5, 2), key=0), State(player=(2, 4), minotaur=(5, 1), key=0), State(player=(2, 5), minotaur=(6, 1), key=0), State(player=(1, 5), minotaur=(5, 1), key=0), State(player=(1, 5), minotaur=(5, 0), key=0), State(player=(1, 6), minotaur=(4, 0), key=0), State(player=(0, 6), minotaur=(4, 1), key=0), State(player=(0, 7), minotaur=(4, 0), key=1), State(player=(1, 7), minotaur=(3, 0), key=1), State(player=(2, 7), minotaur=(2, 0), key=1), State(player=(3, 7), minotaur=(1, 0), key=1), State(player=(4, 7), minotaur=(1, 1), key=1), State(player=(4, 6), minotaur=(0, 1), key=1), State(player=(4, 6), minotaur=(0, 2), key=1), State(player=(5, 6), minotaur=(0, 1), key=1), State(player=(4, 6), minotaur=(0, 0), key=1), State(player=(4, 7), minotaur=(1, 0), key=1), State(player=(4, 7), minotaur=(0, 0), key=1), State(player=(3, 7), minotaur=(1, 0), key=1), State(player=(4, 7), minotaur=(2, 0), key=1), State(player=(4, 6), minotaur=(2, 1), key=1), State(player=(4, 7), minotaur=(3, 1), key=1), State(player=(4, 7), minotaur=(2, 1), key=1), State(player=(4, 7), minotaur=(3, 1), key=1), State(player=(4, 7), minotaur=(4, 1), key=1), State(player=(5, 7), minotaur=(4, 2), key=1), State(player=(5, 7), minotaur=(5, 2), key=1), State(player=(6, 7), minotaur=(4, 2), key=1), State(player=(6, 6), minotaur=(4, 3), key=1), State(player=(6, 6), minotaur=(3, 3), key=1), State(player=(6, 6), minotaur=(3, 4), key=1), State(player=(5, 6), minotaur=(2, 4), key=1), State(player=(6, 6), minotaur=(1, 4), key=1), State(player=(5, 6), minotaur=(2, 4), key=1), State(player=(6, 6), minotaur=(2, 3), key=1), State(player=(6, 6), minotaur=(3, 3), key=1), State(player=(6, 6), minotaur=(3, 4), key=1), State(player=(5, 6), minotaur=(3, 3), key=1), State(player=(5, 5), minotaur=(3, 4), key=1), State(player=(5, 4), minotaur=(3, 5), key=1), State(player=(5, 5), minotaur=(4, 5), key=1), State(player=(6, 5), minotaur=(4, 6), key=1), State(player=(6, 5), minotaur=(4, 6), key=1)] 59\n"
     ]
    },
    {
     "name": "stderr",
     "output_type": "stream",
     "text": [
      "100%|██████████| 5000/5000 [00:49<00:00, 101.46it/s]\n"
     ]
    },
    {
     "name": "stdout",
     "output_type": "stream",
     "text": [
      "[State(player=(0, 0), minotaur=(6, 5), key=0), State(player=(1, 0), minotaur=(6, 4), key=0), State(player=(2, 0), minotaur=(5, 4), key=0), State(player=(3, 0), minotaur=(4, 4), key=0), State(player=(3, 1), minotaur=(3, 4), key=0), State(player=(3, 2), minotaur=(4, 4), key=0), State(player=(3, 3), minotaur=(4, 5), key=0), State(player=(3, 4), minotaur=(4, 4), key=0), State(player=(3, 5), minotaur=(3, 4), key=0), State(player=(2, 5), minotaur=(2, 4), key=0), State(player=(2, 5), minotaur=(2, 5), key=0), State(player=(2, 5), minotaur=(2, 5), key=0)] 12\n"
     ]
    },
    {
     "name": "stderr",
     "output_type": "stream",
     "text": [
      "100%|██████████| 5000/5000 [00:42<00:00, 118.94it/s]\n"
     ]
    },
    {
     "name": "stdout",
     "output_type": "stream",
     "text": [
      "[State(player=(0, 0), minotaur=(6, 5), key=0), State(player=(1, 0), minotaur=(6, 4), key=0), State(player=(1, 1), minotaur=(5, 4), key=0), State(player=(2, 1), minotaur=(5, 5), key=0), State(player=(3, 1), minotaur=(6, 5), key=0), State(player=(3, 2), minotaur=(6, 4), key=0), State(player=(4, 2), minotaur=(6, 5), key=0), State(player=(4, 2), minotaur=(6, 4), key=0), State(player=(3, 2), minotaur=(5, 4), key=0), State(player=(3, 2), minotaur=(4, 4), key=0), State(player=(3, 3), minotaur=(3, 4), key=0), State(player=(3, 3), minotaur=(3, 3), key=0), State(player=(3, 3), minotaur=(3, 3), key=0)] 13\n"
     ]
    },
    {
     "name": "stderr",
     "output_type": "stream",
     "text": [
      "100%|██████████| 5000/5000 [00:46<00:00, 106.55it/s]\n"
     ]
    },
    {
     "name": "stdout",
     "output_type": "stream",
     "text": [
      "[State(player=(0, 0), minotaur=(6, 5), key=0), State(player=(1, 0), minotaur=(6, 6), key=0), State(player=(2, 0), minotaur=(6, 7), key=0), State(player=(2, 1), minotaur=(6, 6), key=0), State(player=(2, 1), minotaur=(6, 5), key=0), State(player=(2, 1), minotaur=(6, 4), key=0), State(player=(3, 1), minotaur=(5, 4), key=0), State(player=(3, 1), minotaur=(4, 4), key=0), State(player=(3, 2), minotaur=(4, 5), key=0), State(player=(3, 3), minotaur=(4, 4), key=0), State(player=(3, 3), minotaur=(3, 4), key=0), State(player=(4, 3), minotaur=(3, 3), key=0), State(player=(4, 4), minotaur=(3, 4), key=0), State(player=(4, 5), minotaur=(4, 4), key=0), State(player=(3, 5), minotaur=(4, 5), key=0), State(player=(3, 6), minotaur=(3, 5), key=0), State(player=(3, 7), minotaur=(3, 6), key=0), State(player=(3, 7), minotaur=(2, 6), key=0), State(player=(2, 7), minotaur=(1, 6), key=0), State(player=(1, 7), minotaur=(1, 7), key=0), State(player=(1, 7), minotaur=(1, 7), key=0)] 21\n"
     ]
    },
    {
     "name": "stderr",
     "output_type": "stream",
     "text": [
      "100%|██████████| 5000/5000 [00:48<00:00, 102.79it/s]\n"
     ]
    },
    {
     "name": "stdout",
     "output_type": "stream",
     "text": [
      "[State(player=(0, 0), minotaur=(6, 5), key=0), State(player=(1, 0), minotaur=(6, 4), key=0), State(player=(2, 0), minotaur=(5, 4), key=0), State(player=(3, 0), minotaur=(4, 4), key=0), State(player=(3, 0), minotaur=(3, 0), key=0), State(player=(3, 0), minotaur=(3, 0), key=0)] 6\n"
     ]
    },
    {
     "name": "stderr",
     "output_type": "stream",
     "text": [
      "100%|██████████| 5000/5000 [00:49<00:00, 102.03it/s]\n"
     ]
    },
    {
     "name": "stdout",
     "output_type": "stream",
     "text": [
      "[State(player=(0, 0), minotaur=(6, 5), key=0), State(player=(1, 0), minotaur=(6, 6), key=0), State(player=(1, 1), minotaur=(5, 6), key=0), State(player=(2, 1), minotaur=(5, 5), key=0), State(player=(3, 1), minotaur=(5, 6), key=0), State(player=(3, 2), minotaur=(5, 7), key=0), State(player=(3, 3), minotaur=(5, 6), key=0), State(player=(2, 3), minotaur=(6, 6), key=0), State(player=(1, 3), minotaur=(5, 6), key=0), State(player=(2, 3), minotaur=(5, 7), key=0), State(player=(2, 3), minotaur=(5, 6), key=0), State(player=(2, 3), minotaur=(6, 6), key=0), State(player=(1, 3), minotaur=(6, 5), key=0), State(player=(0, 3), minotaur=(6, 4), key=0), State(player=(0, 4), minotaur=(5, 4), key=0), State(player=(0, 5), minotaur=(4, 4), key=0), State(player=(0, 5), minotaur=(3, 4), key=0), State(player=(0, 6), minotaur=(3, 3), key=0), State(player=(1, 6), minotaur=(2, 3), key=0), State(player=(1, 7), minotaur=(3, 3), key=0), State(player=(1, 6), minotaur=(4, 3), key=0), State(player=(1, 6), minotaur=(3, 3), key=0), State(player=(1, 7), minotaur=(3, 2), key=0), State(player=(1, 6), minotaur=(4, 2), key=0), State(player=(0, 6), minotaur=(4, 3), key=0), State(player=(1, 6), minotaur=(4, 2), key=0), State(player=(0, 6), minotaur=(3, 2), key=0), State(player=(0, 7), minotaur=(3, 1), key=1), State(player=(1, 7), minotaur=(2, 1), key=1), State(player=(1, 6), minotaur=(2, 0), key=1), State(player=(0, 6), minotaur=(1, 0), key=1), State(player=(0, 5), minotaur=(0, 0), key=1), State(player=(0, 4), minotaur=(0, 1), key=1), State(player=(1, 4), minotaur=(0, 2), key=1), State(player=(2, 4), minotaur=(0, 1), key=1), State(player=(2, 4), minotaur=(1, 1), key=1), State(player=(3, 4), minotaur=(2, 1), key=1), State(player=(3, 5), minotaur=(2, 2), key=1), State(player=(3, 6), minotaur=(2, 3), key=1), State(player=(3, 7), minotaur=(2, 2), key=1), State(player=(4, 7), minotaur=(2, 3), key=1), State(player=(4, 6), minotaur=(2, 4), key=1), State(player=(4, 6), minotaur=(3, 4), key=1), State(player=(4, 6), minotaur=(3, 5), key=1), State(player=(4, 7), minotaur=(3, 6), key=1), State(player=(5, 7), minotaur=(3, 5), key=1), State(player=(6, 7), minotaur=(4, 5), key=1), State(player=(6, 7), minotaur=(4, 4), key=1), State(player=(6, 7), minotaur=(5, 4), key=1), State(player=(6, 7), minotaur=(6, 4), key=1), State(player=(5, 7), minotaur=(5, 4), key=1), State(player=(6, 7), minotaur=(5, 3), key=1), State(player=(5, 7), minotaur=(6, 3), key=1), State(player=(5, 7), minotaur=(6, 2), key=1), State(player=(6, 7), minotaur=(6, 1), key=1), State(player=(6, 6), minotaur=(6, 2), key=1), State(player=(5, 6), minotaur=(6, 1), key=1), State(player=(4, 6), minotaur=(6, 2), key=1), State(player=(5, 6), minotaur=(6, 1), key=1), State(player=(4, 6), minotaur=(5, 1), key=1), State(player=(4, 7), minotaur=(4, 1), key=1), State(player=(5, 7), minotaur=(4, 2), key=1), State(player=(6, 7), minotaur=(5, 2), key=1), State(player=(6, 6), minotaur=(6, 2), key=1), State(player=(5, 6), minotaur=(6, 1), key=1), State(player=(4, 6), minotaur=(5, 1), key=1), State(player=(4, 7), minotaur=(6, 1), key=1), State(player=(5, 7), minotaur=(6, 2), key=1), State(player=(6, 7), minotaur=(5, 2), key=1), State(player=(6, 6), minotaur=(6, 2), key=1), State(player=(5, 6), minotaur=(5, 2), key=1), State(player=(5, 6), minotaur=(5, 6), key=1), State(player=(5, 6), minotaur=(5, 6), key=1)] 73\n"
     ]
    },
    {
     "name": "stderr",
     "output_type": "stream",
     "text": [
      "100%|██████████| 5000/5000 [00:41<00:00, 120.27it/s]\n"
     ]
    },
    {
     "name": "stdout",
     "output_type": "stream",
     "text": [
      "[State(player=(0, 0), minotaur=(6, 5), key=0), State(player=(0, 1), minotaur=(6, 4), key=0), State(player=(1, 1), minotaur=(6, 5), key=0), State(player=(1, 1), minotaur=(6, 4), key=0), State(player=(2, 1), minotaur=(6, 5), key=0), State(player=(2, 1), minotaur=(6, 4), key=0), State(player=(3, 1), minotaur=(6, 5), key=0), State(player=(4, 1), minotaur=(6, 6), key=0), State(player=(4, 2), minotaur=(6, 5), key=0), State(player=(4, 3), minotaur=(6, 4), key=0), State(player=(3, 3), minotaur=(5, 4), key=0), State(player=(2, 3), minotaur=(4, 4), key=0), State(player=(2, 4), minotaur=(4, 5), key=0), State(player=(1, 4), minotaur=(4, 4), key=0), State(player=(0, 4), minotaur=(3, 4), key=0), State(player=(0, 4), minotaur=(2, 4), key=0), State(player=(0, 5), minotaur=(2, 5), key=0), State(player=(0, 5), minotaur=(1, 5), key=0), State(player=(0, 6), minotaur=(1, 4), key=0), State(player=(1, 6), minotaur=(0, 4), key=0), State(player=(1, 7), minotaur=(1, 4), key=0), State(player=(1, 6), minotaur=(1, 5), key=0), State(player=(1, 7), minotaur=(0, 5), key=0), State(player=(1, 7), minotaur=(1, 5), key=0), State(player=(1, 7), minotaur=(2, 5), key=0), State(player=(1, 7), minotaur=(1, 5), key=0), State(player=(1, 7), minotaur=(1, 6), key=0), State(player=(0, 7), minotaur=(1, 7), key=1), State(player=(0, 6), minotaur=(0, 7), key=1), State(player=(1, 6), minotaur=(1, 7), key=1), State(player=(0, 6), minotaur=(0, 7), key=1), State(player=(1, 6), minotaur=(0, 6), key=1), State(player=(0, 6), minotaur=(1, 6), key=1), State(player=(0, 5), minotaur=(1, 5), key=1), State(player=(0, 4), minotaur=(0, 5), key=1), State(player=(0, 3), minotaur=(1, 5), key=1), State(player=(0, 3), minotaur=(1, 4), key=1), State(player=(0, 3), minotaur=(0, 4), key=1), State(player=(1, 3), minotaur=(0, 5), key=1), State(player=(2, 3), minotaur=(0, 4), key=1), State(player=(3, 3), minotaur=(0, 3), key=1), State(player=(4, 3), minotaur=(1, 3), key=1), State(player=(4, 2), minotaur=(1, 2), key=1), State(player=(4, 2), minotaur=(2, 2), key=1), State(player=(4, 1), minotaur=(3, 2), key=1), State(player=(4, 1), minotaur=(3, 3), key=1), State(player=(4, 1), minotaur=(4, 3), key=1), State(player=(4, 0), minotaur=(3, 3), key=1), State(player=(5, 0), minotaur=(3, 2), key=1), State(player=(6, 0), minotaur=(4, 2), key=1), State(player=(5, 0), minotaur=(3, 2), key=1), State(player=(6, 0), minotaur=(4, 2), key=1), State(player=(5, 0), minotaur=(4, 1), key=1), State(player=(4, 0), minotaur=(3, 1), key=1), State(player=(5, 0), minotaur=(2, 1), key=1), State(player=(4, 0), minotaur=(2, 0), key=1), State(player=(4, 0), minotaur=(2, 1), key=1), State(player=(5, 0), minotaur=(2, 0), key=1), State(player=(6, 0), minotaur=(3, 0), key=1), State(player=(6, 0), minotaur=(4, 0), key=1), State(player=(6, 0), minotaur=(4, 1), key=1), State(player=(5, 0), minotaur=(4, 0), key=1), State(player=(5, 0), minotaur=(4, 1), key=1), State(player=(4, 0), minotaur=(4, 0), key=1), State(player=(4, 0), minotaur=(4, 0), key=1)] 65\n"
     ]
    },
    {
     "name": "stderr",
     "output_type": "stream",
     "text": [
      "100%|██████████| 5000/5000 [00:41<00:00, 121.92it/s]\n"
     ]
    },
    {
     "name": "stdout",
     "output_type": "stream",
     "text": [
      "[State(player=(0, 0), minotaur=(6, 5), key=0), State(player=(0, 0), minotaur=(6, 4), key=0), State(player=(0, 1), minotaur=(5, 4), key=0), State(player=(1, 1), minotaur=(5, 3), key=0), State(player=(1, 0), minotaur=(6, 3), key=0), State(player=(2, 0), minotaur=(6, 4), key=0), State(player=(3, 0), minotaur=(5, 4), key=0), State(player=(4, 0), minotaur=(5, 3), key=0), State(player=(4, 0), minotaur=(4, 3), key=0), State(player=(5, 0), minotaur=(3, 3), key=0), State(player=(4, 0), minotaur=(4, 3), key=0), State(player=(4, 0), minotaur=(4, 0), key=0), State(player=(4, 0), minotaur=(4, 0), key=0)] 13\n"
     ]
    },
    {
     "name": "stderr",
     "output_type": "stream",
     "text": [
      "100%|██████████| 5000/5000 [00:37<00:00, 133.12it/s]\n"
     ]
    },
    {
     "name": "stdout",
     "output_type": "stream",
     "text": [
      "[State(player=(0, 0), minotaur=(6, 5), key=0), State(player=(0, 1), minotaur=(6, 4), key=0), State(player=(0, 1), minotaur=(5, 4), key=0), State(player=(1, 1), minotaur=(4, 4), key=0), State(player=(2, 1), minotaur=(3, 4), key=0), State(player=(2, 0), minotaur=(4, 4), key=0), State(player=(3, 0), minotaur=(3, 4), key=0), State(player=(4, 0), minotaur=(2, 4), key=0), State(player=(4, 1), minotaur=(3, 4), key=0), State(player=(4, 2), minotaur=(3, 3), key=0), State(player=(5, 2), minotaur=(3, 4), key=0), State(player=(4, 2), minotaur=(3, 5), key=0), State(player=(4, 2), minotaur=(2, 5), key=0), State(player=(4, 3), minotaur=(2, 4), key=0), State(player=(5, 3), minotaur=(2, 5), key=0), State(player=(5, 4), minotaur=(2, 4), key=0), State(player=(5, 4), minotaur=(2, 3), key=0), State(player=(5, 5), minotaur=(2, 4), key=0), State(player=(4, 5), minotaur=(2, 5), key=0), State(player=(4, 6), minotaur=(3, 5), key=0), State(player=(4, 7), minotaur=(4, 5), key=0), State(player=(3, 7), minotaur=(3, 5), key=0), State(player=(3, 7), minotaur=(3, 7), key=0), State(player=(3, 7), minotaur=(3, 7), key=0)] 24\n"
     ]
    },
    {
     "name": "stderr",
     "output_type": "stream",
     "text": [
      "100%|██████████| 5000/5000 [00:37<00:00, 133.57it/s]\n"
     ]
    },
    {
     "name": "stdout",
     "output_type": "stream",
     "text": [
      "[State(player=(0, 0), minotaur=(6, 5), key=0), State(player=(0, 1), minotaur=(6, 6), key=0), State(player=(0, 1), minotaur=(5, 6), key=0), State(player=(1, 1), minotaur=(6, 6), key=0), State(player=(1, 0), minotaur=(6, 5), key=0), State(player=(2, 0), minotaur=(6, 4), key=0), State(player=(2, 0), minotaur=(5, 4), key=0), State(player=(2, 1), minotaur=(6, 4), key=0), State(player=(2, 1), minotaur=(5, 4), key=0), State(player=(3, 1), minotaur=(4, 4), key=0), State(player=(4, 1), minotaur=(3, 4), key=0), State(player=(4, 2), minotaur=(4, 4), key=0), State(player=(4, 2), minotaur=(4, 3), key=0), State(player=(4, 3), minotaur=(4, 2), key=0), State(player=(3, 3), minotaur=(4, 1), key=0), State(player=(2, 3), minotaur=(5, 1), key=0), State(player=(1, 3), minotaur=(6, 1), key=0), State(player=(1, 4), minotaur=(5, 1), key=0), State(player=(0, 4), minotaur=(4, 1), key=0), State(player=(0, 4), minotaur=(3, 1), key=0), State(player=(0, 5), minotaur=(3, 0), key=0), State(player=(0, 6), minotaur=(2, 0), key=0), State(player=(0, 7), minotaur=(1, 0), key=1), State(player=(0, 6), minotaur=(1, 1), key=1), State(player=(0, 5), minotaur=(0, 1), key=1), State(player=(0, 4), minotaur=(0, 0), key=1), State(player=(0, 3), minotaur=(0, 1), key=1), State(player=(1, 3), minotaur=(0, 2), key=1), State(player=(2, 3), minotaur=(1, 2), key=1), State(player=(2, 4), minotaur=(2, 2), key=1), State(player=(3, 4), minotaur=(2, 3), key=1), State(player=(4, 4), minotaur=(2, 2), key=1), State(player=(5, 4), minotaur=(3, 2), key=1), State(player=(5, 5), minotaur=(4, 2), key=1), State(player=(5, 6), minotaur=(5, 2), key=1), State(player=(5, 6), minotaur=(5, 1), key=1), State(player=(5, 7), minotaur=(5, 0), key=1), State(player=(6, 7), minotaur=(5, 1), key=1), State(player=(5, 7), minotaur=(5, 0), key=1), State(player=(6, 7), minotaur=(5, 1), key=1), State(player=(5, 7), minotaur=(4, 1), key=1), State(player=(5, 7), minotaur=(5, 1), key=1), State(player=(6, 7), minotaur=(5, 2), key=1), State(player=(5, 7), minotaur=(6, 2), key=1), State(player=(5, 6), minotaur=(6, 3), key=1), State(player=(5, 5), minotaur=(6, 4), key=1), State(player=(6, 5), minotaur=(6, 3), key=1), State(player=(6, 5), minotaur=(6, 3), key=1)] 48\n"
     ]
    },
    {
     "name": "stderr",
     "output_type": "stream",
     "text": [
      "100%|██████████| 5000/5000 [00:34<00:00, 143.58it/s]\n"
     ]
    },
    {
     "name": "stdout",
     "output_type": "stream",
     "text": [
      "[State(player=(0, 0), minotaur=(6, 5), key=0), State(player=(1, 0), minotaur=(5, 5), key=0), State(player=(2, 0), minotaur=(5, 4), key=0), State(player=(2, 0), minotaur=(6, 4), key=0), State(player=(3, 0), minotaur=(6, 3), key=0), State(player=(3, 1), minotaur=(6, 2), key=0), State(player=(3, 1), minotaur=(6, 3), key=0), State(player=(4, 1), minotaur=(5, 3), key=0), State(player=(4, 2), minotaur=(6, 3), key=0), State(player=(4, 3), minotaur=(6, 4), key=0), State(player=(4, 3), minotaur=(6, 3), key=0), State(player=(3, 3), minotaur=(5, 3), key=0), State(player=(2, 3), minotaur=(4, 3), key=0), State(player=(1, 3), minotaur=(3, 3), key=0), State(player=(1, 4), minotaur=(2, 3), key=0), State(player=(0, 4), minotaur=(2, 4), key=0), State(player=(0, 5), minotaur=(1, 4), key=0), State(player=(0, 6), minotaur=(0, 4), key=0), State(player=(0, 7), minotaur=(0, 5), key=1), State(player=(1, 7), minotaur=(0, 4), key=1), State(player=(1, 7), minotaur=(1, 4), key=1), State(player=(1, 6), minotaur=(1, 3), key=1), State(player=(1, 6), minotaur=(1, 2), key=1), State(player=(1, 7), minotaur=(1, 3), key=1), State(player=(0, 7), minotaur=(2, 3), key=1), State(player=(1, 7), minotaur=(2, 4), key=1), State(player=(1, 6), minotaur=(2, 5), key=1), State(player=(1, 6), minotaur=(1, 5), key=1), State(player=(0, 6), minotaur=(0, 5), key=1), State(player=(0, 5), minotaur=(0, 6), key=1), State(player=(0, 5), minotaur=(0, 5), key=1), State(player=(0, 5), minotaur=(0, 5), key=1)] 32\n"
     ]
    },
    {
     "name": "stderr",
     "output_type": "stream",
     "text": [
      "100%|██████████| 5000/5000 [00:34<00:00, 145.35it/s]\n"
     ]
    },
    {
     "name": "stdout",
     "output_type": "stream",
     "text": [
      "[State(player=(0, 0), minotaur=(6, 5), key=0), State(player=(1, 0), minotaur=(6, 4), key=0), State(player=(1, 0), minotaur=(5, 4), key=0), State(player=(2, 0), minotaur=(5, 3), key=0), State(player=(3, 0), minotaur=(6, 3), key=0), State(player=(4, 0), minotaur=(5, 3), key=0), State(player=(4, 0), minotaur=(5, 4), key=0), State(player=(4, 1), minotaur=(4, 4), key=0), State(player=(3, 1), minotaur=(4, 5), key=0), State(player=(4, 1), minotaur=(4, 4), key=0), State(player=(3, 1), minotaur=(4, 3), key=0), State(player=(4, 1), minotaur=(4, 2), key=0), State(player=(4, 2), minotaur=(4, 3), key=0), State(player=(4, 3), minotaur=(3, 3), key=0), State(player=(4, 4), minotaur=(2, 3), key=0), State(player=(3, 4), minotaur=(3, 3), key=0), State(player=(3, 3), minotaur=(2, 3), key=0), State(player=(2, 3), minotaur=(3, 3), key=0), State(player=(1, 3), minotaur=(2, 3), key=0), State(player=(1, 4), minotaur=(3, 3), key=0), State(player=(0, 4), minotaur=(3, 4), key=0), State(player=(0, 5), minotaur=(4, 4), key=0), State(player=(0, 5), minotaur=(4, 5), key=0), State(player=(0, 5), minotaur=(4, 4), key=0), State(player=(0, 5), minotaur=(3, 4), key=0), State(player=(0, 5), minotaur=(2, 4), key=0), State(player=(0, 4), minotaur=(3, 4), key=0), State(player=(0, 5), minotaur=(2, 4), key=0), State(player=(0, 4), minotaur=(3, 4), key=0), State(player=(0, 5), minotaur=(3, 5), key=0), State(player=(0, 6), minotaur=(3, 4), key=0), State(player=(0, 6), minotaur=(4, 4), key=0), State(player=(0, 7), minotaur=(3, 4), key=1), State(player=(0, 6), minotaur=(3, 5), key=1), State(player=(0, 5), minotaur=(2, 5), key=1), State(player=(0, 5), minotaur=(0, 5), key=1), State(player=(0, 5), minotaur=(0, 5), key=1)] 37\n"
     ]
    },
    {
     "name": "stderr",
     "output_type": "stream",
     "text": [
      "100%|██████████| 5000/5000 [00:33<00:00, 148.29it/s]\n"
     ]
    },
    {
     "name": "stdout",
     "output_type": "stream",
     "text": [
      "[State(player=(0, 0), minotaur=(6, 5), key=0), State(player=(1, 0), minotaur=(5, 5), key=0), State(player=(2, 0), minotaur=(5, 4), key=0), State(player=(3, 0), minotaur=(4, 4), key=0), State(player=(3, 0), minotaur=(4, 3), key=0), State(player=(4, 0), minotaur=(4, 2), key=0), State(player=(4, 0), minotaur=(4, 1), key=0), State(player=(4, 1), minotaur=(4, 0), key=0), State(player=(4, 2), minotaur=(5, 0), key=0), State(player=(4, 3), minotaur=(5, 1), key=0), State(player=(3, 3), minotaur=(5, 0), key=0), State(player=(2, 3), minotaur=(6, 0), key=0), State(player=(2, 3), minotaur=(5, 0), key=0), State(player=(2, 4), minotaur=(4, 0), key=0), State(player=(1, 4), minotaur=(3, 0), key=0), State(player=(0, 4), minotaur=(3, 1), key=0), State(player=(0, 4), minotaur=(2, 1), key=0), State(player=(0, 5), minotaur=(2, 0), key=0), State(player=(0, 6), minotaur=(1, 0), key=0), State(player=(1, 6), minotaur=(0, 0), key=0), State(player=(1, 6), minotaur=(1, 0), key=0), State(player=(0, 6), minotaur=(0, 0), key=0), State(player=(0, 7), minotaur=(0, 1), key=1), State(player=(0, 6), minotaur=(0, 2), key=1), State(player=(0, 5), minotaur=(0, 3), key=1), State(player=(0, 6), minotaur=(0, 4), key=1), State(player=(1, 6), minotaur=(0, 3), key=1), State(player=(0, 6), minotaur=(0, 2), key=1), State(player=(0, 5), minotaur=(1, 2), key=1), State(player=(0, 4), minotaur=(1, 1), key=1), State(player=(1, 4), minotaur=(2, 1), key=1), State(player=(1, 4), minotaur=(1, 1), key=1), State(player=(1, 4), minotaur=(2, 1), key=1), State(player=(1, 4), minotaur=(1, 1), key=1), State(player=(1, 4), minotaur=(1, 2), key=1), State(player=(2, 4), minotaur=(1, 3), key=1), State(player=(3, 4), minotaur=(1, 2), key=1), State(player=(3, 3), minotaur=(2, 2), key=1), State(player=(4, 3), minotaur=(3, 2), key=1), State(player=(4, 4), minotaur=(2, 2), key=1), State(player=(4, 5), minotaur=(3, 2), key=1), State(player=(4, 6), minotaur=(3, 3), key=1), State(player=(5, 6), minotaur=(3, 2), key=1), State(player=(5, 6), minotaur=(4, 2), key=1), State(player=(5, 7), minotaur=(5, 2), key=1), State(player=(4, 7), minotaur=(4, 2), key=1), State(player=(4, 6), minotaur=(5, 2), key=1), State(player=(3, 6), minotaur=(4, 2), key=1), State(player=(4, 6), minotaur=(3, 2), key=1), State(player=(3, 6), minotaur=(4, 2), key=1), State(player=(4, 6), minotaur=(3, 2), key=1), State(player=(3, 6), minotaur=(3, 1), key=1), State(player=(3, 6), minotaur=(2, 1), key=1), State(player=(3, 6), minotaur=(2, 2), key=1), State(player=(3, 7), minotaur=(3, 2), key=1), State(player=(3, 7), minotaur=(2, 2), key=1), State(player=(4, 7), minotaur=(3, 2), key=1), State(player=(4, 6), minotaur=(3, 3), key=1), State(player=(5, 6), minotaur=(3, 4), key=1), State(player=(4, 6), minotaur=(4, 4), key=1), State(player=(4, 6), minotaur=(4, 3), key=1), State(player=(4, 7), minotaur=(4, 4), key=1), State(player=(5, 7), minotaur=(4, 5), key=1), State(player=(5, 6), minotaur=(4, 6), key=1), State(player=(6, 6), minotaur=(5, 6), key=1), State(player=(6, 7), minotaur=(6, 6), key=1), State(player=(5, 7), minotaur=(6, 7), key=1), State(player=(4, 7), minotaur=(5, 7), key=1), State(player=(4, 6), minotaur=(4, 7), key=1), State(player=(3, 6), minotaur=(3, 7), key=1), State(player=(4, 6), minotaur=(3, 6), key=1), State(player=(5, 6), minotaur=(4, 6), key=1), State(player=(6, 6), minotaur=(5, 6), key=1), State(player=(6, 7), minotaur=(5, 5), key=1), State(player=(5, 7), minotaur=(5, 6), key=1), State(player=(6, 7), minotaur=(4, 6), key=1), State(player=(6, 6), minotaur=(5, 6), key=1), State(player=(6, 7), minotaur=(6, 6), key=1), State(player=(5, 7), minotaur=(5, 6), key=1), State(player=(6, 7), minotaur=(5, 7), key=1), State(player=(6, 7), minotaur=(6, 7), key=1), State(player=(6, 7), minotaur=(6, 7), key=1)] 82\n"
     ]
    },
    {
     "name": "stderr",
     "output_type": "stream",
     "text": [
      "100%|██████████| 5000/5000 [00:33<00:00, 148.74it/s]\n"
     ]
    },
    {
     "name": "stdout",
     "output_type": "stream",
     "text": [
      "[State(player=(0, 0), minotaur=(6, 5), key=0), State(player=(0, 0), minotaur=(6, 4), key=0), State(player=(1, 0), minotaur=(5, 4), key=0), State(player=(2, 0), minotaur=(6, 4), key=0), State(player=(2, 0), minotaur=(5, 4), key=0), State(player=(2, 1), minotaur=(4, 4), key=0), State(player=(3, 1), minotaur=(3, 4), key=0), State(player=(3, 1), minotaur=(3, 3), key=0), State(player=(4, 1), minotaur=(3, 4), key=0), State(player=(4, 0), minotaur=(4, 4), key=0), State(player=(4, 0), minotaur=(5, 4), key=0), State(player=(4, 0), minotaur=(4, 4), key=0), State(player=(4, 0), minotaur=(4, 3), key=0), State(player=(4, 0), minotaur=(3, 3), key=0), State(player=(3, 0), minotaur=(3, 2), key=0), State(player=(3, 0), minotaur=(3, 0), key=0), State(player=(3, 0), minotaur=(3, 0), key=0)] 17\n"
     ]
    },
    {
     "name": "stderr",
     "output_type": "stream",
     "text": [
      "100%|██████████| 5000/5000 [00:34<00:00, 143.53it/s]"
     ]
    },
    {
     "name": "stdout",
     "output_type": "stream",
     "text": [
      "[State(player=(0, 0), minotaur=(6, 5), key=0), State(player=(1, 0), minotaur=(6, 4), key=0), State(player=(1, 0), minotaur=(6, 3), key=0), State(player=(2, 0), minotaur=(6, 2), key=0), State(player=(2, 1), minotaur=(5, 2), key=0), State(player=(2, 0), minotaur=(5, 1), key=0), State(player=(2, 1), minotaur=(5, 0), key=0), State(player=(3, 1), minotaur=(4, 0), key=0), State(player=(3, 1), minotaur=(3, 0), key=0), State(player=(4, 1), minotaur=(2, 0), key=0), State(player=(4, 2), minotaur=(2, 1), key=0), State(player=(4, 3), minotaur=(3, 1), key=0), State(player=(3, 3), minotaur=(4, 1), key=0), State(player=(3, 3), minotaur=(4, 0), key=0), State(player=(3, 4), minotaur=(3, 0), key=0), State(player=(2, 4), minotaur=(3, 1), key=0), State(player=(1, 4), minotaur=(2, 1), key=0), State(player=(0, 4), minotaur=(1, 1), key=0), State(player=(0, 5), minotaur=(1, 2), key=0), State(player=(0, 5), minotaur=(1, 3), key=0), State(player=(0, 6), minotaur=(1, 4), key=0), State(player=(0, 6), minotaur=(1, 3), key=0), State(player=(0, 7), minotaur=(1, 4), key=1), State(player=(0, 6), minotaur=(2, 4), key=1), State(player=(0, 5), minotaur=(2, 5), key=1), State(player=(0, 5), minotaur=(1, 5), key=1), State(player=(0, 6), minotaur=(0, 5), key=1), State(player=(0, 5), minotaur=(1, 5), key=1), State(player=(0, 6), minotaur=(0, 5), key=1), State(player=(0, 5), minotaur=(0, 6), key=1), State(player=(0, 4), minotaur=(1, 6), key=1), State(player=(0, 3), minotaur=(2, 6), key=1), State(player=(1, 3), minotaur=(1, 6), key=1), State(player=(1, 4), minotaur=(0, 6), key=1), State(player=(1, 3), minotaur=(0, 5), key=1), State(player=(2, 3), minotaur=(0, 4), key=1), State(player=(3, 3), minotaur=(0, 3), key=1), State(player=(3, 4), minotaur=(0, 2), key=1), State(player=(4, 4), minotaur=(1, 2), key=1), State(player=(4, 5), minotaur=(2, 2), key=1), State(player=(4, 6), minotaur=(2, 3), key=1), State(player=(4, 6), minotaur=(2, 4), key=1), State(player=(4, 6), minotaur=(3, 4), key=1), State(player=(4, 6), minotaur=(3, 3), key=1), State(player=(4, 7), minotaur=(3, 4), key=1), State(player=(3, 7), minotaur=(4, 4), key=1), State(player=(4, 7), minotaur=(4, 3), key=1), State(player=(4, 7), minotaur=(5, 3), key=1), State(player=(4, 6), minotaur=(4, 3), key=1), State(player=(3, 6), minotaur=(4, 4), key=1), State(player=(3, 7), minotaur=(3, 4), key=1), State(player=(4, 7), minotaur=(4, 4), key=1), State(player=(5, 7), minotaur=(5, 4), key=1), State(player=(6, 7), minotaur=(6, 4), key=1), State(player=(6, 6), minotaur=(6, 5), key=1), State(player=(6, 5), minotaur=(5, 5), key=1), State(player=(6, 5), minotaur=(5, 5), key=1)] 57\n"
     ]
    },
    {
     "name": "stderr",
     "output_type": "stream",
     "text": [
      "\n"
     ]
    }
   ],
   "source": [
    "maze2 = maze1.copy()\n",
    "for x,y in zip(*np.where(maze==1)):\n",
    "    maze2[x,y] = 1\n",
    "    env5 = mz.Maze(maze2)\n",
    "    n_episodes = 5000\n",
    "    Q, policy = ql.qlearning(env5, gamma, alpha, epsilon, n_episodes, Q)\n",
    "    np.save(f, Q)\n",
    "    method = \"ValIter\"\n",
    "    path = env5.simulate((0, 0), policy, method)\n",
    "    print(path, len(path))"
   ]
  },
  {
   "cell_type": "code",
   "execution_count": 75,
   "metadata": {},
   "outputs": [],
   "source": [
    "env4 = mz.Maze(maze)"
   ]
  },
  {
   "cell_type": "code",
   "execution_count": 76,
   "metadata": {},
   "outputs": [
    {
     "name": "stderr",
     "output_type": "stream",
     "text": [
      "100%|██████████| 50000/50000 [05:09<00:00, 161.41it/s]\n"
     ]
    }
   ],
   "source": [
    "n_episodes = 50000\n",
    "Q, policy = ql.qlearning(env4, gamma, alpha, epsilon, n_episodes)\n",
    "np.save(f, Q)"
   ]
  },
  {
   "cell_type": "code",
   "execution_count": 77,
   "metadata": {},
   "outputs": [
    {
     "name": "stdout",
     "output_type": "stream",
     "text": [
      "[State(player=(0, 0), minotaur=(6, 5), key=0), State(player=(1, 0), minotaur=(6, 4), key=0), State(player=(1, 1), minotaur=(6, 5), key=0), State(player=(1, 0), minotaur=(6, 4), key=0), State(player=(1, 1), minotaur=(5, 4), key=0), State(player=(1, 0), minotaur=(5, 3), key=0), State(player=(1, 1), minotaur=(5, 2), key=0), State(player=(1, 0), minotaur=(5, 1), key=0), State(player=(1, 0), minotaur=(5, 0), key=0), State(player=(2, 0), minotaur=(6, 0), key=0), State(player=(2, 1), minotaur=(5, 0), key=0), State(player=(2, 1), minotaur=(6, 0), key=0), State(player=(3, 1), minotaur=(6, 1), key=0), State(player=(4, 1), minotaur=(5, 1), key=0), State(player=(4, 0), minotaur=(5, 0), key=0), State(player=(4, 1), minotaur=(4, 0), key=0), State(player=(4, 2), minotaur=(3, 0), key=0), State(player=(4, 3), minotaur=(3, 1), key=0), State(player=(4, 2), minotaur=(3, 2), key=0), State(player=(4, 3), minotaur=(2, 2), key=0), State(player=(3, 3), minotaur=(3, 2), key=0), State(player=(2, 3), minotaur=(2, 2), key=0), State(player=(2, 4), minotaur=(2, 3), key=0), State(player=(1, 4), minotaur=(2, 4), key=0), State(player=(0, 4), minotaur=(3, 4), key=0), State(player=(0, 5), minotaur=(2, 4), key=0), State(player=(0, 6), minotaur=(2, 3), key=0), State(player=(0, 7), minotaur=(2, 4), key=1), State(player=(0, 7), minotaur=(1, 4), key=1), State(player=(0, 7), minotaur=(0, 4), key=1), State(player=(0, 6), minotaur=(0, 5), key=1), State(player=(0, 5), minotaur=(0, 6), key=1), State(player=(0, 4), minotaur=(1, 6), key=1), State(player=(1, 4), minotaur=(1, 7), key=1), State(player=(1, 3), minotaur=(1, 6), key=1), State(player=(2, 3), minotaur=(1, 7), key=1), State(player=(3, 3), minotaur=(2, 7), key=1), State(player=(3, 4), minotaur=(3, 7), key=1), State(player=(2, 4), minotaur=(3, 6), key=1), State(player=(3, 4), minotaur=(3, 5), key=1), State(player=(4, 4), minotaur=(3, 6), key=1), State(player=(3, 4), minotaur=(3, 5), key=1), State(player=(4, 4), minotaur=(4, 5), key=1), State(player=(4, 5), minotaur=(5, 5), key=1), State(player=(4, 6), minotaur=(5, 6), key=1), State(player=(4, 5), minotaur=(4, 6), key=1), State(player=(4, 6), minotaur=(3, 6), key=1), State(player=(3, 6), minotaur=(4, 6), key=1), State(player=(4, 6), minotaur=(4, 5), key=1), State(player=(4, 7), minotaur=(5, 5), key=1), State(player=(5, 7), minotaur=(6, 5), key=1), State(player=(5, 7), minotaur=(5, 5), key=1), State(player=(6, 7), minotaur=(5, 6), key=1), State(player=(6, 7), minotaur=(6, 6), key=1), State(player=(6, 6), minotaur=(6, 7), key=1), State(player=(6, 5), minotaur=(5, 7), key=1), State(player=(6, 5), minotaur=(5, 7), key=1)] 57\n"
     ]
    }
   ],
   "source": [
    "method = \"ValIter\"\n",
    "path = env4.simulate((0, 0), policy, method)\n",
    "print(path, len(path))"
   ]
  },
  {
   "cell_type": "code",
   "execution_count": 78,
   "metadata": {},
   "outputs": [
    {
     "name": "stderr",
     "output_type": "stream",
     "text": [
      "100%|██████████| 10000/10000 [01:13<00:00, 135.87it/s]"
     ]
    },
    {
     "name": "stdout",
     "output_type": "stream",
     "text": [
      "0.2321\n"
     ]
    },
    {
     "name": "stderr",
     "output_type": "stream",
     "text": [
      "\n"
     ]
    }
   ],
   "source": [
    "import tqdm\n",
    "N = 10000\n",
    "n_win = 0\n",
    "for i in tqdm.tqdm(range(N)):\n",
    "    path = env4.simulate((0, 0), policy, method)\n",
    "    if env4.win(env4.map[path[-1]]):\n",
    "        n_win += 1\n",
    "print(n_win/N)"
   ]
  },
  {
   "cell_type": "code",
   "execution_count": null,
   "metadata": {},
   "outputs": [],
   "source": []
  }
 ],
 "metadata": {
  "kernelspec": {
   "display_name": "Python 3.10.6 ('el2805_4')",
   "language": "python",
   "name": "python3"
  },
  "language_info": {
   "codemirror_mode": {
    "name": "ipython",
    "version": 3
   },
   "file_extension": ".py",
   "mimetype": "text/x-python",
   "name": "python",
   "nbconvert_exporter": "python",
   "pygments_lexer": "ipython3",
   "version": "3.10.6"
  },
  "orig_nbformat": 4,
  "vscode": {
   "interpreter": {
    "hash": "f17498c08ec4b69f201123d031cb5c8af330f66a9acbc9a993c3dd933a48c82b"
   }
  }
 },
 "nbformat": 4,
 "nbformat_minor": 2
}
